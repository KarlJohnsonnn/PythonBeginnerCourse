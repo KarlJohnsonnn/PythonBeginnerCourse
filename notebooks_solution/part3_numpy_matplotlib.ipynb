{
 "cells": [
  {
   "cell_type": "code",
   "execution_count": 1,
   "metadata": {},
   "outputs": [],
   "source": [
    "# import numpy \n",
    "import numpy as np"
   ]
  },
  {
   "cell_type": "code",
   "execution_count": 2,
   "metadata": {},
   "outputs": [
    {
     "data": {
      "text/plain": [
       "array([ 1,  5,  3,  7,  9,  4, 10])"
      ]
     },
     "execution_count": 2,
     "metadata": {},
     "output_type": "execute_result"
    }
   ],
   "source": [
    "# initialize a numpy array\n",
    "a = np.array([1, 5, 3, 7, 9, 4, 10])\n",
    "a"
   ]
  },
  {
   "cell_type": "code",
   "execution_count": 3,
   "metadata": {},
   "outputs": [
    {
     "name": "stdout",
     "output_type": "stream",
     "text": [
      "shape of b = (7,)\n",
      "[ 1  5  3  7 20  4 10]\n"
     ]
    }
   ],
   "source": [
    "# What shape (dimension) does the array have?\n",
    "print(f'shape of b = {a.shape}')\n",
    "a[4] = 20\n",
    "print(a)"
   ]
  },
  {
   "cell_type": "code",
   "execution_count": 4,
   "metadata": {},
   "outputs": [
    {
     "name": "stdout",
     "output_type": "stream",
     "text": [
      "(3, 3)\n",
      "1\n",
      "[4 5 6]\n",
      "[[1 4 7]\n",
      " [2 5 8]\n",
      " [3 6 9]]\n"
     ]
    }
   ],
   "source": [
    "# initialize a matrix, and inspect\n",
    "b = np.array([[1,2,3],\n",
    "              [4,5,6],\n",
    "              [7,8,9]])\n",
    "print(b.shape)\n",
    "print(b[0,0])\n",
    "print(b[1,:])\n",
    "print(np.transpose(b))"
   ]
  },
  {
   "cell_type": "code",
   "execution_count": 5,
   "metadata": {},
   "outputs": [
    {
     "name": "stdout",
     "output_type": "stream",
     "text": [
      "[ 7 20 10]\n"
     ]
    }
   ],
   "source": [
    "# show elements larger than 5\n",
    "print(a[a>5])"
   ]
  },
  {
   "cell_type": "code",
   "execution_count": 6,
   "metadata": {},
   "outputs": [
    {
     "name": "stdout",
     "output_type": "stream",
     "text": [
      "[ 6 10  8 12 25  9 15]\n",
      "[ 0.5         1.66666667  3.          1.75        2.          0.57142857\n",
      " 10.        ]\n"
     ]
    }
   ],
   "source": [
    "# math\n",
    "print(a + 5) # each element + 5\n",
    "print(a / np.array([2,3,1,4,10,7,1])) # element-wise "
   ]
  },
  {
   "cell_type": "code",
   "execution_count": 7,
   "metadata": {},
   "outputs": [
    {
     "name": "stdout",
     "output_type": "stream",
     "text": [
      "45\n",
      "[ 6 15 24]\n",
      "[12 15 18]\n",
      "5.0\n"
     ]
    }
   ],
   "source": [
    "# summation\n",
    "print(np.sum(b))\n",
    "print(np.sum(b, axis=1))\n",
    "print(np.sum(b, axis=0))\n",
    "\n",
    "print(np.mean(b))"
   ]
  },
  {
   "cell_type": "code",
   "execution_count": 8,
   "metadata": {},
   "outputs": [
    {
     "name": "stdout",
     "output_type": "stream",
     "text": [
      "[ 0  1  2  3  4  5  6  7  8  9 10 11 12 13 14]\n",
      "[0.         1.         1.41421356 1.73205081 2.         2.23606798\n",
      " 2.44948974 2.64575131 2.82842712 3.         3.16227766 3.31662479\n",
      " 3.46410162 3.60555128 3.74165739]\n"
     ]
    }
   ],
   "source": [
    "# generate arrays\n",
    "x = np.arange(15)\n",
    "print(x)\n",
    "print(np.sqrt(x))"
   ]
  },
  {
   "cell_type": "code",
   "execution_count": 9,
   "metadata": {},
   "outputs": [
    {
     "name": "stdout",
     "output_type": "stream",
     "text": [
      "[[ 1.00000e+01  1.00156e+03  1.06000e+01  8.60000e+01  2.73000e+02\n",
      "   7.60000e+00]\n",
      " [ 1.40000e+01  1.00110e+03  1.07100e+01  8.54000e+01  2.64000e+02\n",
      "   7.70000e+00]\n",
      " [ 1.90000e+01  1.00046e+03  1.07600e+01  8.50000e+01  2.59000e+02\n",
      "   7.90000e+00]\n",
      " ...\n",
      " [ 3.00740e+04  9.87000e+00 -6.77600e+01  1.00000e+00  2.61000e+02\n",
      "   3.76000e+01]\n",
      " [ 3.00780e+04  9.86000e+00 -6.74400e+01  1.00000e+00  2.61000e+02\n",
      "   3.77000e+01]\n",
      " [ 3.00810e+04  9.86000e+00 -6.73500e+01  1.00000e+00  2.61000e+02\n",
      "   3.77000e+01]]\n",
      "(6036, 6)\n"
     ]
    }
   ],
   "source": [
    "# Open the \"2018051011_pangaea.txt\" textfile and read in the values using numpy! \n",
    "data = np.genfromtxt(\"data/2018051011_pangaea.txt\", delimiter=\"\\t\", skip_header=16)\n",
    "print(data)\n",
    "print(data.shape)"
   ]
  },
  {
   "cell_type": "code",
   "execution_count": 10,
   "metadata": {},
   "outputs": [
    {
     "name": "stdout",
     "output_type": "stream",
     "text": [
      "[1.0000e+01 1.4000e+01 1.9000e+01 ... 3.0074e+04 3.0078e+04 3.0081e+04]\n",
      "[ 7.6  7.7  7.9 ... 37.6 37.7 37.7]\n"
     ]
    }
   ],
   "source": [
    "# Assign the column names to the extracted data for better readability.\n",
    "altitude = data[:,0]\n",
    "print(altitude)\n",
    "pressure = data[:,1]\n",
    "temperature = data[:,2]\n",
    "rh = data[:,3]\n",
    "dd = data[:,4]\n",
    "ff = data[:,5]\n",
    "print(ff)"
   ]
  },
  {
   "cell_type": "code",
   "execution_count": 1,
   "metadata": {},
   "outputs": [],
   "source": [
    "# dew point calculation\n",
    "def calculate_dewpoint(temperature, rh):\n",
    "    Esaett = 6.107e2 * np.exp((17.08*temperature)/(234.2 + temperature))\n",
    "    wvparpress = rh/100*Esaett\n",
    "    tau = 234.2/((17.08/(np.log(wvparpress/6.107e2)))-1)\n",
    "    return tau"
   ]
  },
  {
   "cell_type": "code",
   "execution_count": 2,
   "metadata": {},
   "outputs": [
    {
     "ename": "NameError",
     "evalue": "name 'temperature' is not defined",
     "output_type": "error",
     "traceback": [
      "\u001B[0;31m---------------------------------------------------------------------------\u001B[0m",
      "\u001B[0;31mNameError\u001B[0m                                 Traceback (most recent call last)",
      "\u001B[0;32m<ipython-input-2-2e090e1403a8>\u001B[0m in \u001B[0;36m<module>\u001B[0;34m\u001B[0m\n\u001B[1;32m      5\u001B[0m     \u001B[0;32mreturn\u001B[0m \u001B[0mu\u001B[0m\u001B[0;34m,\u001B[0m \u001B[0mv\u001B[0m\u001B[0;34m\u001B[0m\u001B[0;34m\u001B[0m\u001B[0m\n\u001B[1;32m      6\u001B[0m \u001B[0;34m\u001B[0m\u001B[0m\n\u001B[0;32m----> 7\u001B[0;31m \u001B[0mtau\u001B[0m \u001B[0;34m=\u001B[0m \u001B[0mcalculate_dewpoint\u001B[0m\u001B[0;34m(\u001B[0m\u001B[0mtemperature\u001B[0m\u001B[0;34m,\u001B[0m \u001B[0mrh\u001B[0m\u001B[0;34m)\u001B[0m\u001B[0;34m\u001B[0m\u001B[0;34m\u001B[0m\u001B[0m\n\u001B[0m\u001B[1;32m      8\u001B[0m \u001B[0mu\u001B[0m\u001B[0;34m,\u001B[0m\u001B[0mv\u001B[0m \u001B[0;34m=\u001B[0m \u001B[0mcalculate_wind_components\u001B[0m\u001B[0;34m(\u001B[0m\u001B[0mdd\u001B[0m\u001B[0;34m*\u001B[0m\u001B[0mnp\u001B[0m\u001B[0;34m.\u001B[0m\u001B[0mpi\u001B[0m\u001B[0;34m/\u001B[0m\u001B[0;36m180\u001B[0m\u001B[0;34m,\u001B[0m \u001B[0mff\u001B[0m\u001B[0;34m)\u001B[0m\u001B[0;34m\u001B[0m\u001B[0;34m\u001B[0m\u001B[0m\n\u001B[1;32m      9\u001B[0m \u001B[0mtpot\u001B[0m \u001B[0;34m=\u001B[0m \u001B[0;34m(\u001B[0m\u001B[0mtemperature\u001B[0m \u001B[0;34m+\u001B[0m \u001B[0;36m273.15\u001B[0m\u001B[0;34m)\u001B[0m \u001B[0;34m*\u001B[0m \u001B[0mnp\u001B[0m\u001B[0;34m.\u001B[0m\u001B[0mpower\u001B[0m\u001B[0;34m(\u001B[0m\u001B[0mpressure\u001B[0m\u001B[0;34m[\u001B[0m\u001B[0;36m0\u001B[0m\u001B[0;34m]\u001B[0m\u001B[0;34m/\u001B[0m\u001B[0mpressure\u001B[0m\u001B[0;34m,\u001B[0m \u001B[0;36m287\u001B[0m\u001B[0;34m/\u001B[0m\u001B[0;36m1005\u001B[0m\u001B[0;34m)\u001B[0m\u001B[0;34m\u001B[0m\u001B[0;34m\u001B[0m\u001B[0m\n",
      "\u001B[0;31mNameError\u001B[0m: name 'temperature' is not defined"
     ]
    }
   ],
   "source": [
    "# calculate wind components\n",
    "def calculate_wind_components(wdir, wspeed):\n",
    "    u = -wspeed * np.sin(wdir)\n",
    "    v = -wspeed * np.cos(wdir)\n",
    "    return u, v\n",
    "\n",
    "tau = calculate_dewpoint(temperature, rh)\n",
    "u,v = calculate_wind_components(dd*np.pi/180, ff)\n",
    "tpot = (temperature + 273.15) * np.power(pressure[0]/pressure, 287/1005)"
   ]
  },
  {
   "cell_type": "code",
   "execution_count": 21,
   "metadata": {},
   "outputs": [],
   "source": [
    "# this line necessary for jupyter notebooks visualization\n",
    "%matplotlib inline"
   ]
  },
  {
   "cell_type": "code",
   "execution_count": 61,
   "metadata": {},
   "outputs": [
    {
     "data": {
      "image/png": "[encoded data removed]",
      "text/plain": [
       "<Figure size 360x410.4 with 1 Axes>"
      ]
     },
     "metadata": {
      "needs_background": "light"
     },
     "output_type": "display_data"
    }
   ],
   "source": [
    "# matplotlib (plot dew point and temperature)\n",
    "import matplotlib.pyplot as plt\n",
    "import matplotlib\n",
    "\n",
    "fig, ax = plt.subplots(1, figsize=(5,5.7))\n",
    "\n",
    "ax.plot(tau, altitude, color='blue', label='dew point')\n",
    "ax.plot(temperature, altitude, color='red', label='T')\n",
    "\n",
    "ax.set_ylim([0,11000])\n",
    "ax.set_xlim([-70,20])\n",
    "\n",
    "ax.xaxis.set_major_locator(matplotlib.ticker.MultipleLocator(20))\n",
    "ax.xaxis.set_minor_locator(matplotlib.ticker.AutoMinorLocator(4))\n",
    "ax.yaxis.set_minor_locator(matplotlib.ticker.AutoMinorLocator(2))\n",
    "ax.set_xlabel('Temperature [$^{\\circ}$C]', fontweight='semibold', fontsize=15)\n",
    "ax.set_ylabel('Height [m]', fontweight='semibold', fontsize=15)\n",
    "#ax.legend(fontsize=13, bbox_to_anchor=(0.2,0.9,0.9,0.102))\n",
    "\n",
    "ax.tick_params(axis='both', which='major', labelsize=14,\n",
    "               width=2, length=4.5, right=True, top=True)\n",
    "ax.tick_params(axis='both', which='minor', labelsize=14,\n",
    "               width=1.5, length=2.5, right=True, top=True)\n",
    "ax.legend()\n",
    "\n",
    "#plt.tight_layout()\n",
    "#savename = f'{dt:%Y%m%d_%H%M}_profile_t.png'\n",
    "#fig.savefig(savename, dpi=250)\n",
    "\n"
   ]
  },
  {
   "cell_type": "code",
   "execution_count": null,
   "metadata": {},
   "outputs": [],
   "source": [
    "fig, ax = plt.subplots(1, figsize=(5,5.7))\n",
    "\n",
    "ax.plot(tpot, altitude, color='darkgreen')\n",
    "barb_x_loc = np.ones(altitude.shape)*285\n",
    "ax.barbs(barb_x_loc[::100], altitude[::100], u[::100], v[::100], \n",
    "         pivot='middle', length=7)\n",
    "\n",
    "ax.set_ylim([0,11000])\n",
    "ax.set_xlim([280,335])\n",
    "\n",
    "ax.xaxis.set_major_locator(matplotlib.ticker.MultipleLocator(10))\n",
    "ax.xaxis.set_minor_locator(matplotlib.ticker.AutoMinorLocator(2))\n",
    "ax.yaxis.set_minor_locator(matplotlib.ticker.AutoMinorLocator(2))\n",
    "ax.set_xlabel('pot. Temp [K]', fontweight='semibold', fontsize=15)\n",
    "ax.set_ylabel('Height [m]', fontweight='semibold', fontsize=15)\n",
    "ax.legend(fontsize=13, bbox_to_anchor=(0.2,0.9,0.9,0.102))\n",
    "\n",
    "ax.tick_params(axis='both', which='major', labelsize=14,\n",
    "               width=2, length=4.5, right=True, top=True)\n",
    "ax.tick_params(axis='both', which='minor', labelsize=14,\n",
    "               width=1.5, length=2.5, right=True, top=True)\n",
    "\n",
    "#plt.tight_layout()\n",
    "#savename = '{}_profile_tpot_wind.png'.format(dt.strftime('%Y%m%d_%H%M'))\n",
    "#fig.savefig(savename, dpi=250)"
   ]
  }
 ],
 "metadata": {
  "kernelspec": {
   "display_name": "Python 3",
   "language": "python",
   "name": "python3"
  },
  "language_info": {
   "codemirror_mode": {
    "name": "ipython",
    "version": 3
   },
   "file_extension": ".py",
   "mimetype": "text/x-python",
   "name": "python",
   "nbconvert_exporter": "python",
   "pygments_lexer": "ipython3",
   "version": "3.6.7"
  }
 },
 "nbformat": 4,
 "nbformat_minor": 2
}