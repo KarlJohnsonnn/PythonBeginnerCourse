{
 "cells": [
  {
   "cell_type": "markdown",
   "metadata": {},
   "source": [
    "## Part 3 - NumPy\n",
    "### import numpy and give it an alias (alias: In Python alias are an alternate name for referring to the same thing.)"
   ]
  },
  {
   "cell_type": "code",
   "execution_count": 1,
   "metadata": {},
   "outputs": [],
   "source": [
    "import numpy as np"
   ]
  },
  {
   "cell_type": "markdown",
   "metadata": {},
   "source": [
    "### initialize a numpy array"
   ]
  },
  {
   "cell_type": "code",
   "execution_count": 2,
   "metadata": {},
   "outputs": [],
   "source": [
    "arr = np.array(42)    # 0D array, aka. scalar\n",
    "arr = np.array([1, 2, 3, 4, 5])    # 1D array, aka. vector\n",
    "arr = np.array([[1, 2, 3], [4, 5, 6]])    # 2D array, aka. matrix\n",
    "arr = np.array([[[1, 2, 3], [4, 5, 6]], [[1, 2, 3], [4, 5, 6]]])    # 3D array, aka. tensor\n"
   ]
  },
  {
   "cell_type": "markdown",
   "metadata": {},
   "source": [
    "### What shape (dimension) does the array have?"
   ]
  },
  {
   "cell_type": "code",
   "execution_count": 3,
   "metadata": {},
   "outputs": [
    {
     "name": "stdout",
     "output_type": "stream",
     "text": [
      "arr =\n",
      "[[[1 2 3]\n",
      "  [4 5 6]]\n",
      "\n",
      " [[1 2 3]\n",
      "  [4 5 6]]]\n",
      "dimension of arr = 3\n",
      "shape(number of elements per dimension) of arr = (2, 2, 3)\n"
     ]
    }
   ],
   "source": [
    "print(f'arr =\\n{arr}')\n",
    "print(f'dimension of arr = {arr.ndim}')\n",
    "print(f'shape(number of elements per dimension) of arr = {arr.shape}')\n"
   ]
  },
  {
   "cell_type": "markdown",
   "metadata": {},
   "source": [
    "\n",
    "### change the fifth element in the array to 20, note: python starts counting at 0!!"
   ]
  },
  {
   "cell_type": "code",
   "execution_count": 4,
   "metadata": {},
   "outputs": [
    {
     "name": "stdout",
     "output_type": "stream",
     "text": [
      "[ 1  5  3  7 20]\n"
     ]
    }
   ],
   "source": [
    "a = np.array([1, 5, 3, 7, 9])\n",
    "a[4] = 20\n",
    "print(a)\n"
   ]
  },
  {
   "cell_type": "markdown",
   "metadata": {},
   "source": [
    "### initialize a matrix, and access elements"
   ]
  },
  {
   "cell_type": "code",
   "execution_count": 5,
   "metadata": {},
   "outputs": [
    {
     "name": "stdout",
     "output_type": "stream",
     "text": [
      "array b =\n",
      "[[1 2 3]\n",
      " [4 5 6]\n",
      " [7 8 9]]\n",
      "shape of array b = (3, 3)\n",
      "b[0,0] = 1\n",
      "second row b1_ = [4 5 6]\n",
      "third column b_2 = [3 6 9]\n",
      "slice of b =\n",
      "[[4 5]\n",
      " [7 8]]\n",
      "transpose of b =\n",
      "[[1 4 7]\n",
      " [2 5 8]\n",
      " [3 6 9]]\n"
     ]
    }
   ],
   "source": [
    "# input a list of lists with, the length of the most inner lists need to be the same! (e.g.: a rectangular matrix)\n",
    "b = np.array([[1,2,3],\n",
    "              [4,5,6],\n",
    "              [7,8,9]])\n",
    "\n",
    "print(f'array b =\\n{b}')    # print the array, ('\\n' : new line keyword)\n",
    "print(f'shape of array b = {b.shape}')    # look at the shape\n",
    "print(f'b[0,0] = {b[0,0]}')    # access one value array[row_index, column_index],\n",
    "print(f'second row b1_ = {b[1,:]}')    # access a whole row\n",
    "print(f'third column b_2 = {b[:,2]}')    # access a whole colum\n",
    "\n",
    "\n",
    "\n",
    "print(f'slice of b =\\n{b[1:,:2]}')    # it is also possible to acces slices,\n",
    "print(f'transpose of b =\\n{b.T}')\n"
   ]
  },
  {
   "cell_type": "markdown",
   "metadata": {},
   "source": [
    "### show elements larger than 5"
   ]
  },
  {
   "cell_type": "code",
   "execution_count": 6,
   "metadata": {},
   "outputs": [
    {
     "name": "stdout",
     "output_type": "stream",
     "text": [
      "[ 7 20]\n"
     ]
    }
   ],
   "source": [
    "# logical indexing also available, access all elements in a larger than 5\n",
    "print(a[a>5])"
   ]
  },
  {
   "cell_type": "markdown",
   "metadata": {},
   "source": [
    "### mathematical operations"
   ]
  },
  {
   "cell_type": "code",
   "execution_count": 7,
   "metadata": {},
   "outputs": [
    {
     "name": "stdout",
     "output_type": "stream",
     "text": [
      "4\n",
      "[ 6 10  8 12 25]\n"
     ]
    },
    {
     "ename": "ValueError",
     "evalue": "operands could not be broadcast together with shapes (5,) (3,) ",
     "output_type": "error",
     "traceback": [
      "\u001b[0;31m---------------------------------------------------------------------------\u001b[0m",
      "\u001b[0;31mValueError\u001b[0m                                Traceback (most recent call last)",
      "\u001b[0;32m<ipython-input-7-f70adcb97357>\u001b[0m in \u001b[0;36m<module>\u001b[0;34m\u001b[0m\n\u001b[1;32m      1\u001b[0m \u001b[0mprint\u001b[0m\u001b[0;34m(\u001b[0m\u001b[0ma\u001b[0m\u001b[0;34m[\u001b[0m\u001b[0;36m2\u001b[0m\u001b[0;34m]\u001b[0m \u001b[0;34m+\u001b[0m \u001b[0ma\u001b[0m \u001b[0;34m[\u001b[0m\u001b[0;36m0\u001b[0m\u001b[0;34m]\u001b[0m\u001b[0;34m)\u001b[0m    \u001b[0;31m# math with single elemnts\u001b[0m\u001b[0;34m\u001b[0m\u001b[0;34m\u001b[0m\u001b[0m\n\u001b[1;32m      2\u001b[0m \u001b[0mprint\u001b[0m\u001b[0;34m(\u001b[0m\u001b[0ma\u001b[0m \u001b[0;34m+\u001b[0m \u001b[0;36m5\u001b[0m\u001b[0;34m)\u001b[0m \u001b[0;31m# each element in a + 5\u001b[0m\u001b[0;34m\u001b[0m\u001b[0;34m\u001b[0m\u001b[0m\n\u001b[0;32m----> 3\u001b[0;31m \u001b[0mprint\u001b[0m\u001b[0;34m(\u001b[0m\u001b[0ma\u001b[0m \u001b[0;34m+\u001b[0m \u001b[0mb\u001b[0m\u001b[0;34m[\u001b[0m\u001b[0;36m0\u001b[0m\u001b[0;34m,\u001b[0m \u001b[0;34m:\u001b[0m\u001b[0;34m]\u001b[0m\u001b[0;34m)\u001b[0m \u001b[0;31m# each element in a + first row of b\u001b[0m\u001b[0;34m\u001b[0m\u001b[0;34m\u001b[0m\u001b[0m\n\u001b[0m\u001b[1;32m      4\u001b[0m \u001b[0mprint\u001b[0m\u001b[0;34m(\u001b[0m\u001b[0ma\u001b[0m \u001b[0;34m/\u001b[0m \u001b[0mnp\u001b[0m\u001b[0;34m.\u001b[0m\u001b[0marray\u001b[0m\u001b[0;34m(\u001b[0m\u001b[0;34m[\u001b[0m\u001b[0;36m2\u001b[0m\u001b[0;34m,\u001b[0m\u001b[0;36m3\u001b[0m\u001b[0;34m,\u001b[0m\u001b[0;36m1\u001b[0m\u001b[0;34m,\u001b[0m\u001b[0;36m4\u001b[0m\u001b[0;34m,\u001b[0m\u001b[0;36m10\u001b[0m\u001b[0;34m]\u001b[0m\u001b[0;34m)\u001b[0m\u001b[0;34m)\u001b[0m \u001b[0;31m# element-wise division\u001b[0m\u001b[0;34m\u001b[0m\u001b[0;34m\u001b[0m\u001b[0m\n",
      "\u001b[0;31mValueError\u001b[0m: operands could not be broadcast together with shapes (5,) (3,) "
     ]
    }
   ],
   "source": [
    "print(a[2] + a [0])    # math with single elemnts\n",
    "print(a + 5) # each element in a + 5\n",
    "print(a + b[0, :]) # each element in a + first row of b\n",
    "print(a / np.array([2,3,1,4,10])) # element-wise division"
   ]
  },
  {
   "cell_type": "code",
   "execution_count": null,
   "metadata": {},
   "outputs": [],
   "source": [
    "# summation\n",
    "print(np.sum(b))\n",
    "print(np.sum(b, axis=1))\n",
    "print(np.sum(b, axis=0))"
   ]
  },
  {
   "cell_type": "code",
   "execution_count": null,
   "metadata": {},
   "outputs": [],
   "source": [
    "# other commom math functions \n",
    "print(np.mean(b))\n",
    "print(np.exp(b))\n",
    "print(np.log10(b))\n",
    "print(np.sin(b))\n",
    "print(np.sqrt(b))"
   ]
  },
  {
   "cell_type": "markdown",
   "metadata": {},
   "source": [
    "### generate arrays"
   ]
  },
  {
   "cell_type": "code",
   "execution_count": null,
   "metadata": {},
   "outputs": [],
   "source": [
    "# generate arrays, many more @ https://numpy.org/doc/stable/reference/routines.array-creation.html\n",
    "x = np.arange(15)\n",
    "print(x)\n",
    "\n",
    "zero_mat = np.zeros((3, 4, 2))    # fill create a matrix containing zeros \n",
    "print(zero_mat)\n",
    "\n",
    "fill_value_mat = np.full((3, 4, 2), fill_value=-999.0)    # create a matrix, with an arbitrary fill value\n",
    "print(fill_value_mat)"
   ]
  },
  {
   "cell_type": "markdown",
   "metadata": {},
   "source": [
    "### Reading data from a text file using NumPy. Open the \"2018051011_pangaea.txt\" textfile and read in the values using the function 'genfromtxt' (generates a numpy array from a text file)! "
   ]
  },
  {
   "cell_type": "code",
   "execution_count": null,
   "metadata": {},
   "outputs": [],
   "source": [
    "data_path = \"data/2018051011_pangaea.txt\"\n",
    "data = np.genfromtxt(\n",
    "    data_path,          # first arg: path of the file\n",
    "    delimiter=\"\\t\",     # separator between numbers, '\\t' = tab, '\\n' 0 newline, ...\n",
    "    skip_header=16      # skip first 16 lines in the textfile\n",
    ")\n",
    "print(data)\n",
    "print(data.shape)\n",
    "\n",
    "import datetime\n",
    "dt = datetime.datetime.strptime(data_path[5:data_path.rfind('_')], \"%Y%m%d%H\")\n",
    "print(f'date = {dt}')"
   ]
  },
  {
   "cell_type": "markdown",
   "metadata": {},
   "source": [
    "### Assign the column names to the extracted data for better readability."
   ]
  },
  {
   "cell_type": "code",
   "execution_count": null,
   "metadata": {},
   "outputs": [],
   "source": [
    "altitude = data[:,0]\n",
    "print(altitude)\n",
    "pressure = data[:,1]\n",
    "temperature = data[:,2]\n",
    "rh = data[:,3]\n",
    "dd = data[:,4]\n",
    "ff = data[:,5]\n",
    "print(f'relative humidity = {rh}')"
   ]
  },
  {
   "cell_type": "markdown",
   "metadata": {},
   "source": [
    "### define function for dew point calculation"
   ]
  },
  {
   "cell_type": "code",
   "execution_count": null,
   "metadata": {},
   "outputs": [],
   "source": [
    "def calculate_dewpoint(temperature, rh):\n",
    "    Esaett = 6.107e2 * np.exp((17.08*temperature)/(234.2 + temperature))\n",
    "    wvparpress = rh/100*Esaett\n",
    "    tau = 234.2/((17.08/(np.log(wvparpress/6.107e2)))-1)\n",
    "    return tau"
   ]
  },
  {
   "cell_type": "markdown",
   "metadata": {},
   "source": [
    "### define function tocalculate wind components"
   ]
  },
  {
   "cell_type": "code",
   "execution_count": null,
   "metadata": {},
   "outputs": [],
   "source": [
    "def calculate_wind_components(wdir, wspeed):\n",
    "    u = -wspeed * np.sin(wdir)\n",
    "    v = -wspeed * np.cos(wdir)\n",
    "    return u, v\n",
    "\n",
    "\n",
    "# calculate wind components and potential temperature\n",
    "tau = calculate_dewpoint(temperature, rh)\n",
    "u,v = calculate_wind_components(dd*np.pi/180, ff)\n",
    "tpot = (temperature + 273.15) * np.power(pressure[0]/pressure, 287/1005)"
   ]
  },
  {
   "cell_type": "markdown",
   "metadata": {},
   "source": [
    "## Part 3 - Matplotlib\n",
    "### import numpy and give it an alias (alias: In Python alias are an alternate name for referring to the same thing.)\n",
    "\n"
   ]
  },
  {
   "cell_type": "code",
   "execution_count": null,
   "metadata": {},
   "outputs": [],
   "source": [
    "import matplotlib.pyplot as plt\n",
    "import matplotlib\n",
    "# this line necessary for jupyter notebooks visualization\n",
    "%matplotlib inline    \n"
   ]
  },
  {
   "cell_type": "code",
   "execution_count": null,
   "metadata": {},
   "outputs": [],
   "source": [
    "# open a figure\n",
    "fig, ax = plt.subplots(1, figsize=(5,5.7))\n",
    "\n",
    "# line plot to axis 'ax'\n",
    "ax.plot(tau, altitude, color='blue', label='dew point')\n",
    "# second line plot to axis 'ax'\n",
    "ax.plot(temperature, altitude, color='red', label='T')\n",
    "\n",
    "# define x and y axis limits\n",
    "ax.set_ylim([0,11000])\n",
    "ax.set_xlim([-70,20])\n",
    "\n",
    "# change appearance of the axis ticks\n",
    "ax.xaxis.set_major_locator(matplotlib.ticker.MultipleLocator(20))\n",
    "ax.xaxis.set_minor_locator(matplotlib.ticker.AutoMinorLocator(4))\n",
    "ax.yaxis.set_minor_locator(matplotlib.ticker.AutoMinorLocator(2))\n",
    "ax.tick_params(axis='both', which='major', labelsize=14, width=2, length=4.5, right=True, top=True)\n",
    "ax.tick_params(axis='both', which='minor', labelsize=14, width=1.5, length=2.5, right=True, top=True)\n",
    "\n",
    "# define axis labels\n",
    "ax.set_xlabel('Temperature [$^{\\circ}$C]', fontweight='semibold', fontsize=15)\n",
    "ax.set_ylabel('Height [m]', fontweight='semibold', fontsize=15)\n",
    "\n",
    "# plot a legend\n",
    "ax.legend()\n",
    "\n",
    "# tight_layout automatically adjusts subplot parameters so that the subplot(s) \n",
    "# fits in to the figure area. This is an experimental feature and may not \n",
    "# work for some cases. It only checks the extents of ticklabels, axis labels, and titles.\n",
    "plt.tight_layout()\n",
    "\n",
    "# save the plot to a file\n",
    "savename = f'{dt:%Y%m%d_%H%M}_profile_t.png'\n",
    "fig.savefig(savename, dpi=250)\n",
    "\n"
   ]
  },
  {
   "cell_type": "code",
   "execution_count": null,
   "metadata": {},
   "outputs": [],
   "source": [
    "fig, ax = plt.subplots(1, figsize=(5,5.7))\n",
    "\n",
    "ax.plot(tpot, altitude, color='darkgreen', label='pot. temperature')\n",
    "\n",
    "barb_x_loc = np.ones(altitude.shape)*285\n",
    "ax.barbs(barb_x_loc[::100], altitude[::100], u[::100], v[::100], \n",
    "         pivot='middle', length=7)\n",
    "\n",
    "ax.set_ylim([0,11000])\n",
    "ax.set_xlim([280,335])\n",
    "\n",
    "ax.xaxis.set_major_locator(matplotlib.ticker.MultipleLocator(10))\n",
    "ax.xaxis.set_minor_locator(matplotlib.ticker.AutoMinorLocator(2))\n",
    "ax.yaxis.set_minor_locator(matplotlib.ticker.AutoMinorLocator(2))\n",
    "ax.set_xlabel('pot. Temp [K]', fontweight='semibold', fontsize=15)\n",
    "ax.set_ylabel('Height [m]', fontweight='semibold', fontsize=15)\n",
    "ax.legend(fontsize=13, bbox_to_anchor=(0.2,0.9,0.9,0.102))\n",
    "\n",
    "ax.tick_params(axis='both', which='major', labelsize=14,\n",
    "               width=2, length=4.5, right=True, top=True)\n",
    "ax.tick_params(axis='both', which='minor', labelsize=14,\n",
    "               width=1.5, length=2.5, right=True, top=True)\n",
    "\n",
    "plt.tight_layout()\n",
    "#savename = '{}_profile_tpot_wind.png'.format(dt.strftime('%Y%m%d_%H%M'))\n",
    "#fig.savefig(savename, dpi=250)"
   ]
  },
  {
   "cell_type": "code",
   "execution_count": null,
   "metadata": {},
   "outputs": [],
   "source": []
  }
 ],
 "metadata": {
  "kernelspec": {
   "display_name": "Python 3",
   "language": "python",
   "name": "python3"
  },
  "language_info": {
   "codemirror_mode": {
    "name": "ipython",
    "version": 3
   },
   "file_extension": ".py",
   "mimetype": "text/x-python",
   "name": "python",
   "nbconvert_exporter": "python",
   "pygments_lexer": "ipython3",
   "version": "3.6.7"
  }
 },
 "nbformat": 4,
 "nbformat_minor": 2
}
