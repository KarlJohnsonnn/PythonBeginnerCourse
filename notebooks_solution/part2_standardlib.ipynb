{
 "cells": [
  {
   "cell_type": "markdown",
   "metadata": {},
   "source": [
    "## Part 2 - standart library: the 'datetime' module\n",
    "### import the datetime module"
   ]
  },
  {
   "cell_type": "code",
   "execution_count": 1,
   "metadata": {},
   "outputs": [],
   "source": [
    "# import the datetime module\n",
    "import datetime"
   ]
  },
  {
   "cell_type": "markdown",
   "metadata": {},
   "source": [
    "### initialize a datetime object\n"
   ]
  },
  {
   "cell_type": "code",
   "execution_count": 2,
   "metadata": {
    "scrolled": true
   },
   "outputs": [
    {
     "name": "stdout",
     "output_type": "stream",
     "text": [
      "2018-06-28 18:30:00\n",
      "<class 'datetime.datetime'>\n",
      "2018-07-26 18:30:00\n"
     ]
    }
   ],
   "source": [
    "start_time = datetime.datetime(2018,6,28,18,30)\n",
    "\n",
    "print(start_time)\n",
    "print(type(start_time))\n",
    "later = start_time + datetime.timedelta(days=28)\n",
    "print(later)"
   ]
  },
  {
   "cell_type": "markdown",
   "metadata": {},
   "source": [
    "### What time is it?"
   ]
  },
  {
   "cell_type": "code",
   "execution_count": 3,
   "metadata": {},
   "outputs": [
    {
     "name": "stdout",
     "output_type": "stream",
     "text": [
      "2020-10-10 12:03:22.294821\n"
     ]
    }
   ],
   "source": [
    "today = datetime.datetime.now()\n",
    "print(today)\n"
   ]
  },
  {
   "cell_type": "markdown",
   "metadata": {},
   "source": [
    "### counting number of days since"
   ]
  },
  {
   "cell_type": "code",
   "execution_count": 4,
   "metadata": {},
   "outputs": [
    {
     "name": "stdout",
     "output_type": "stream",
     "text": [
      "2020-10-10 12:03:22.300858\n",
      "dayse since Nov 12. 1955 = 23708\n"
     ]
    }
   ],
   "source": [
    "now = datetime.datetime.now()\n",
    "\n",
    "print(now)\n",
    "\n",
    "# Nov. 12, 1955 at 10:04 PM\n",
    "\n",
    "past = datetime.datetime(1955, 11, 12, 22, 4)\n",
    "\n",
    "days_since = abs(now - past)\n",
    "print(f'dayse since {past:%b %d. %Y} = {days_since.days}')"
   ]
  },
  {
   "cell_type": "markdown",
   "metadata": {},
   "source": [
    "### initialize a datetime object with an arbitrary formatted string"
   ]
  },
  {
   "cell_type": "code",
   "execution_count": 5,
   "metadata": {},
   "outputs": [
    {
     "name": "stdout",
     "output_type": "stream",
     "text": [
      "2017-11-21_1630\n"
     ]
    }
   ],
   "source": [
    "\n",
    "timestring = \"21/11/17 16:30\"    # YY/MM/DD HH:SS\n",
    "anothertime = datetime.datetime.strptime(timestring, \"%d/%m/%y %H:%M\")\n",
    "\n",
    "newtimestring = anothertime.strftime('%Y-%m-%d_%H%M')\n",
    "print(newtimestring)"
   ]
  },
  {
   "cell_type": "markdown",
   "metadata": {},
   "source": [
    "### generate a list of datetime objects begining at 2020 June 28. until today with a time delta of 1 day"
   ]
  },
  {
   "cell_type": "code",
   "execution_count": 6,
   "metadata": {},
   "outputs": [
    {
     "data": {
      "text/plain": [
       "[datetime.datetime(2020, 10, 1, 0, 0),\n",
       " datetime.datetime(2020, 10, 2, 0, 0),\n",
       " datetime.datetime(2020, 10, 3, 0, 0),\n",
       " datetime.datetime(2020, 10, 4, 0, 0),\n",
       " datetime.datetime(2020, 10, 5, 0, 0),\n",
       " datetime.datetime(2020, 10, 6, 0, 0),\n",
       " datetime.datetime(2020, 10, 7, 0, 0),\n",
       " datetime.datetime(2020, 10, 8, 0, 0),\n",
       " datetime.datetime(2020, 10, 9, 0, 0),\n",
       " datetime.datetime(2020, 10, 10, 0, 0)]"
      ]
     },
     "execution_count": 6,
     "metadata": {},
     "output_type": "execute_result"
    }
   ],
   "source": [
    "def timerange(begin, end):\n",
    "    result = []\n",
    "    pivot = begin\n",
    "    while pivot <= end:\n",
    "        result.append(pivot)\n",
    "        pivot += datetime.timedelta(days=1)\n",
    "    return result\n",
    "\n",
    "timerange(datetime.datetime(2020,10,1), today)"
   ]
  },
  {
   "cell_type": "markdown",
   "metadata": {},
   "source": [
    "## Part 2 - standart library: the 'os' module\n",
    "### import the os module"
   ]
  },
  {
   "cell_type": "code",
   "execution_count": 7,
   "metadata": {},
   "outputs": [],
   "source": [
    "import os"
   ]
  },
  {
   "cell_type": "markdown",
   "metadata": {},
   "source": [
    "### check the current working directory and list the content of the folder"
   ]
  },
  {
   "cell_type": "code",
   "execution_count": 8,
   "metadata": {},
   "outputs": [
    {
     "name": "stdout",
     "output_type": "stream",
     "text": [
      "/Users/willi/Dropbox/PowerPoint/PythonBeginnersCourse/notebooks_solution\n",
      "['2018051011_pangaea.txt', '20180624_leipzig_categorize.nc', '20180624_leipzig_classification.nc', '2018051911_pangaea.txt']\n"
     ]
    }
   ],
   "source": [
    "print(os.getcwd())\n",
    "\n",
    "# list the contents of a folder\n",
    "filelist = os.listdir('data')\n",
    "print(filelist)"
   ]
  },
  {
   "cell_type": "markdown",
   "metadata": {},
   "source": [
    "### change the current working directory "
   ]
  },
  {
   "cell_type": "code",
   "execution_count": 9,
   "metadata": {},
   "outputs": [
    {
     "name": "stdout",
     "output_type": "stream",
     "text": [
      "/Users/willi/Dropbox/PowerPoint/PythonBeginnersCourse/notebooks_solution/data\n",
      "/Users/willi/Dropbox/PowerPoint/PythonBeginnersCourse/notebooks_solution\n"
     ]
    }
   ],
   "source": [
    "os.chdir('data/')\n",
    "print(os.getcwd())\n",
    "\n",
    "# go one folder back\n",
    "os.chdir('..')\n",
    "print(os.getcwd())"
   ]
  },
  {
   "cell_type": "markdown",
   "metadata": {},
   "source": [
    "### create and remove a new folder"
   ]
  },
  {
   "cell_type": "code",
   "execution_count": 10,
   "metadata": {},
   "outputs": [],
   "source": [
    "os.mkdir('newfolder')\n",
    "os.rmdir('newfolder')\n"
   ]
  },
  {
   "cell_type": "markdown",
   "metadata": {},
   "source": [
    "### create and remove new folders and subfolders"
   ]
  },
  {
   "cell_type": "code",
   "execution_count": 11,
   "metadata": {},
   "outputs": [],
   "source": [
    "os.makedirs('newfolder/newsubfolder/newsubsubfolder')\n",
    "os.removedirs('newfolder/newsubfolder/newsubsubfolder')\n"
   ]
  },
  {
   "cell_type": "markdown",
   "metadata": {},
   "source": [
    "### check when 'data/20180624_leipzig_categorize.nc' was last changed"
   ]
  },
  {
   "cell_type": "code",
   "execution_count": 12,
   "metadata": {},
   "outputs": [
    {
     "name": "stdout",
     "output_type": "stream",
     "text": [
      "Modification time: 20180630 11:15:42\n"
     ]
    }
   ],
   "source": [
    "last_changed = os.stat('data/20180624_leipzig_categorize.nc').st_mtime # modification time\n",
    "dt_last_changed = datetime.datetime.fromtimestamp(last_changed)\n",
    "print(f'Modification time: {dt_last_changed:%Y%m%d %H:%M:%S}')"
   ]
  },
  {
   "cell_type": "markdown",
   "metadata": {},
   "source": [
    "### Write a function that returns a datetime object inizialized by a string containting some kind of formatted date "
   ]
  },
  {
   "cell_type": "code",
   "execution_count": 13,
   "metadata": {},
   "outputs": [
    {
     "data": {
      "text/plain": [
       "datetime.datetime(2018, 6, 24, 0, 0)"
      ]
     },
     "execution_count": 13,
     "metadata": {},
     "output_type": "execute_result"
    }
   ],
   "source": [
    "def dt_from_filename(filename):\n",
    "    return datetime.datetime.strptime(filename[:8], '%Y%m%d')\n",
    "\n",
    "# call the function \n",
    "dt_from_filename(filelist[1])"
   ]
  },
  {
   "cell_type": "code",
   "execution_count": 14,
   "metadata": {},
   "outputs": [
    {
     "data": {
      "text/plain": [
       "[datetime.datetime(2018, 5, 10, 0, 0),\n",
       " datetime.datetime(2018, 6, 24, 0, 0),\n",
       " datetime.datetime(2018, 6, 24, 0, 0),\n",
       " datetime.datetime(2018, 5, 19, 0, 0)]"
      ]
     },
     "execution_count": 14,
     "metadata": {},
     "output_type": "execute_result"
    }
   ],
   "source": [
    "# list comprehension\n",
    "[dt_from_filename(filename) for filename in filelist]"
   ]
  },
  {
   "cell_type": "code",
   "execution_count": null,
   "metadata": {},
   "outputs": [],
   "source": []
  }
 ],
 "metadata": {
  "kernelspec": {
   "display_name": "Python 3",
   "language": "python",
   "name": "python3"
  },
  "language_info": {
   "codemirror_mode": {
    "name": "ipython",
    "version": 3
   },
   "file_extension": ".py",
   "mimetype": "text/x-python",
   "name": "python",
   "nbconvert_exporter": "python",
   "pygments_lexer": "ipython3",
   "version": "3.6.7"
  }
 },
 "nbformat": 4,
 "nbformat_minor": 2
}
