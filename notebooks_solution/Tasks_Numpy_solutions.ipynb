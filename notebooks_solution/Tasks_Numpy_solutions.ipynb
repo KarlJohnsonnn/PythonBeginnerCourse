{
 "cells": [
  {
   "cell_type": "markdown",
   "metadata": {},
   "source": [
    "#### 1. Write a NumPy program to print the NumPy version in your system."
   ]
  },
  {
   "cell_type": "code",
   "execution_count": null,
   "metadata": {},
   "outputs": [],
   "source": [
    "import numpy as np\n",
    "print(np.version.version)"
   ]
  },
  {
   "cell_type": "markdown",
   "metadata": {},
   "source": [
    "#### 3. Write a NumPy program to create a 3x3 matrix with values ranging from 2 to 10. Expected Output: [[ 2 3 4] [ 5 6 7] [ 8 9 10]]"
   ]
  },
  {
   "cell_type": "code",
   "execution_count": null,
   "metadata": {},
   "outputs": [],
   "source": [
    "vector = np.arange(2,11)\n",
    "print(vector)\n",
    "print(f'reshaped to 3x3 matrix: {vector.reshape(3,3)}')"
   ]
  },
  {
   "cell_type": "markdown",
   "metadata": {},
   "source": [
    "#### 4. Write a NumPy program to create a null vector of size 10 and update sixth value to 11. [ 0. 0. 0. 0. 0. 0. 0. 0. 0. 0.] Update sixth value to 11 [ 0. 0. 0. 0. 0. 11. 0. 0. 0. 0.]"
   ]
  },
  {
   "cell_type": "code",
   "execution_count": null,
   "metadata": {},
   "outputs": [],
   "source": [
    "zero_vector = np.zeros(10)\n",
    "print(zero_vector)\n",
    "\n",
    "zero_vector[5] = 11\n",
    "print(zero_vector)"
   ]
  },
  {
   "cell_type": "markdown",
   "metadata": {},
   "source": [
    "#### 5. Write a NumPy program to create an array with values ranging from 12 to 38. Expected Output: [12 13 14 15 16 17 18 19 20 21 22 23 24 25 26 27 28 29 30 31 32 33 34 35 36 37 38]"
   ]
  },
  {
   "cell_type": "code",
   "execution_count": null,
   "metadata": {},
   "outputs": [],
   "source": [
    "# np.arange(start, end) --> start included, end not included!\n",
    "print(np.arange(12,39)) "
   ]
  },
  {
   "cell_type": "markdown",
   "metadata": {},
   "source": [
    "#### 32. Write a NumPy program to save a NumPy array to a text file."
   ]
  },
  {
   "cell_type": "code",
   "execution_count": null,
   "metadata": {},
   "outputs": [],
   "source": [
    "# 1. create random numpy array, e.g. a 4x4 matrix\n",
    "numpy_array = np.arange(16).reshape(4, 4)\n",
    "print(numpy_array)\n",
    "\n",
    "# 2. save array to a text file using numpy\n",
    "np.savetxt('np_array.txt', # file name as string\n",
    "           numpy_array,    # actual numpy array\n",
    "           fmt='%.0e',     # format spec. .8 (8 decimals, exponential)\n",
    "           delimiter=' ',  # seperator between numbers\n",
    "           newline='\\n')   # new line for each row"
   ]
  },
  {
   "cell_type": "markdown",
   "metadata": {},
   "source": [
    "#### 33. Write a NumPy program to find the memory size of a NumPy array. Expected Output: 128 bytes"
   ]
  },
  {
   "cell_type": "code",
   "execution_count": null,
   "metadata": {},
   "outputs": [],
   "source": [
    "another_np_array = np.arange(25).reshape(5,5)\n",
    "print(another_np_array)\n",
    "\n",
    "# get the size of a numpy array in bytes\n",
    "number_of_elements = another_np_array.size\n",
    "\n",
    "size_per_element = another_np_array.itemsize\n",
    "\n",
    "total_size_in_bytes = (number_of_elements * size_per_element)\n",
    "print(f\"{total_size_in_bytes} bytes\")"
   ]
  },
  {
   "cell_type": "markdown",
   "metadata": {},
   "source": [
    "#### 49. Write a NumPy program to collapse a 3-D array into one dimension array. Expected Output: 3-D array: [[ 1. 0. 0.] [ 0. 1. 0.] [ 0. 0. 1.]] One dimension array: [ 1. 0. 0. 0. 1. 0. 0. 0. 1.]"
   ]
  },
  {
   "cell_type": "code",
   "execution_count": null,
   "metadata": {},
   "outputs": [],
   "source": [
    "matrix = np.array([[ 1., 0., 0.], [ 0., 1., 0.], [ 0., 0., 1.]])\n",
    "print(matrix)\n",
    "\n",
    "# 'flatten' a matrix to a vector dimensions: 3x3 --> 9x1\n",
    "print(matrix.size)\n",
    "print(f'reshaped to vector: {matrix.reshape(matrix.size)}')"
   ]
  },
  {
   "cell_type": "markdown",
   "metadata": {},
   "source": [
    "#### 58. Write a NumPy program to concatenate two 2-dimensional arrays. Expected Output: Sample arrays: ([[0, 1, 3], [5, 7, 9]], [[0, 2, 4], [6, 8, 10]] Expected Output: [[ 0 1 3 0 2 4] [ 5 7 9 6 8 10]]"
   ]
  },
  {
   "cell_type": "code",
   "execution_count": null,
   "metadata": {},
   "outputs": [],
   "source": [
    "a = np.array([[0, 1, 3], [5, 7, 9]])\n",
    "print(f'a = {a}')\n",
    "b = np.array([[0, 2, 4], [6, 8, 10]])\n",
    "print(f'b = {b}')\n",
    "\n",
    "# concatinate columns of a and b\n",
    "ab_concat = np.concatenate([a, b], axis=1)\n",
    "print(f'concatenated = {ab_concat}')\n",
    "\n",
    "ab_concat2 = np.hstack([a, b])\n",
    "print(f'concatenated = {ab_concat2}')"
   ]
  },
  {
   "cell_type": "markdown",
   "metadata": {},
   "source": [
    "#### 85. Write a NumPy program to create a NumPy array of 10 integers from a random generator."
   ]
  },
  {
   "cell_type": "code",
   "execution_count": 1,
   "metadata": {},
   "outputs": [
    {
     "name": "stdout",
     "output_type": "stream",
     "text": [
      "10 random numbers between 0 and 1: [7 8 9 9 2 3 9 5 9 7]\n"
     ]
    }
   ],
   "source": [
    "import numpy as np\n",
    "rng = np.random.default_rng()\n",
    "rand = (rng.random(10) * 10).astype(int)\n",
    "print(f'10 random numbers between 0 and 1: {rand}')"
   ]
  },
  {
   "cell_type": "code",
   "execution_count": null,
   "metadata": {},
   "outputs": [],
   "source": []
  }
 ],
 "metadata": {
  "kernelspec": {
   "display_name": "Python 3",
   "language": "python",
   "name": "python3"
  },
  "language_info": {
   "codemirror_mode": {
    "name": "ipython",
    "version": 3
   },
   "file_extension": ".py",
   "mimetype": "text/x-python",
   "name": "python",
   "nbconvert_exporter": "python",
   "pygments_lexer": "ipython3",
   "version": "3.6.7"
  }
 },
 "nbformat": 4,
 "nbformat_minor": 2
}
