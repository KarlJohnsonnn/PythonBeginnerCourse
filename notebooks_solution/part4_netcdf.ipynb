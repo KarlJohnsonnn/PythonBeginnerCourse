{
 "cells": [
  {
   "cell_type": "code",
   "execution_count": 1,
   "metadata": {},
   "outputs": [],
   "source": [
    "# import the netCDF4 module\n",
    "import xarray as xr\n",
    "import numpy as np\n",
    "import datetime"
   ]
  },
  {
   "cell_type": "code",
   "execution_count": 2,
   "metadata": {},
   "outputs": [
    {
     "name": "stdout",
     "output_type": "stream",
     "text": [
      "<xarray.Dataset>\n",
      "Dimensions:               (height: 479, model_height: 21, time: 2879)\n",
      "Coordinates:\n",
      "  * time                  (time) datetime64[ns] 2018-06-24T00:00:45.000000670 ... 2018-06-24T23:59:44.996795654\n",
      "  * height                (height) float32 304.0752 335.2544 ... 15768.959\n",
      "  * model_height          (model_height) float32 289.1111 ... 16566.666\n",
      "Data variables:\n",
      "    altitude              float32 ...\n",
      "    latitude              float32 ...\n",
      "    longitude             float32 ...\n",
      "    rainrate              (time) float32 dask.array<shape=(2879,), chunksize=(2879,)>\n",
      "    lwp                   (time) float32 dask.array<shape=(2879,), chunksize=(2879,)>\n",
      "    lwp_error             (time) float32 dask.array<shape=(2879,), chunksize=(2879,)>\n",
      "    radar_frequency       float32 ...\n",
      "    lidar_wavelength      float32 ...\n",
      "    Z                     (time, height) float32 dask.array<shape=(2879, 479), chunksize=(2879, 479)>\n",
      "    v                     (time, height) float32 dask.array<shape=(2879, 479), chunksize=(2879, 479)>\n",
      "    width                 (time, height) float32 dask.array<shape=(2879, 479), chunksize=(2879, 479)>\n",
      "    ldr                   (time, height) float32 dask.array<shape=(2879, 479), chunksize=(2879, 479)>\n",
      "    Z_bias                float32 ...\n",
      "    Z_error               (time, height) float32 dask.array<shape=(2879, 479), chunksize=(2879, 479)>\n",
      "    Z_sensitivity         (height) float32 dask.array<shape=(479,), chunksize=(479,)>\n",
      "    beta                  (time, height) float32 dask.array<shape=(2879, 479), chunksize=(2879, 479)>\n",
      "    beta_bias             float32 ...\n",
      "    beta_error            float32 ...\n",
      "    lidar_depolarisation  (time, height) float32 dask.array<shape=(2879, 479), chunksize=(2879, 479)>\n",
      "    temperature           (time, model_height) float32 dask.array<shape=(2879, 21), chunksize=(2879, 21)>\n",
      "    pressure              (time, model_height) float32 dask.array<shape=(2879, 21), chunksize=(2879, 21)>\n",
      "    specific_humidity     (time, model_height) float32 dask.array<shape=(2879, 21), chunksize=(2879, 21)>\n",
      "    uwind                 (time, model_height) float32 dask.array<shape=(2879, 21), chunksize=(2879, 21)>\n",
      "    vwind                 (time, model_height) float32 dask.array<shape=(2879, 21), chunksize=(2879, 21)>\n",
      "    radar_gas_atten       (time, height) float32 dask.array<shape=(2879, 479), chunksize=(2879, 479)>\n",
      "    radar_liquid_atten    (time, height) float32 dask.array<shape=(2879, 479), chunksize=(2879, 479)>\n",
      "    sigma_zbeta           (time) float32 dask.array<shape=(2879,), chunksize=(2879,)>\n",
      "    mean_zbeta            (time) float32 dask.array<shape=(2879,), chunksize=(2879,)>\n",
      "    numgates_zbeta        (time) float32 dask.array<shape=(2879,), chunksize=(2879,)>\n",
      "    category_bits         (time, height) int8 dask.array<shape=(2879, 479), chunksize=(2879, 479)>\n",
      "    quality_bits          (time, height) int8 dask.array<shape=(2879, 479), chunksize=(2879, 479)>\n",
      "Attributes:\n",
      "    Conventions:       CF-1.0\n",
      "    location:          Leipzig\n",
      "    title:             Cloud categorization products from Leipzig, 2018-06-24\n",
      "    day:               24\n",
      "    month:             6\n",
      "    year:              2018\n",
      "    history:           27 Jun 2018 07:55:46 - Generated from level 1 data by ...\n",
      "    source:            35.5 GHz Cloud radar MIRA\\nRadar type: Monostatic, pul...\n",
      "    institution:       Data produced at Department of Meteorology, University...\n",
      "    reference:         Documentation may be found at http://www.met.rdg.ac.uk...\n",
      "    software_version:  0.10.2\n",
      "    comment:           This dataset is an aggregation of data from cloud rada...\n"
     ]
    }
   ],
   "source": [
    "# load the categorize file in the data folder\n",
    "f = xr.open_mfdataset('data/20180624_leipzig_categorize.nc')\n",
    "#, combine='by_coords')\n",
    "print(f)"
   ]
  },
  {
   "cell_type": "code",
   "execution_count": 3,
   "metadata": {
    "scrolled": false
   },
   "outputs": [
    {
     "name": "stdout",
     "output_type": "stream",
     "text": [
      "altitude\n",
      "latitude\n",
      "longitude\n",
      "time\n",
      "height\n",
      "model_height\n",
      "rainrate\n",
      "lwp\n",
      "lwp_error\n",
      "radar_frequency\n",
      "lidar_wavelength\n",
      "Z\n",
      "v\n",
      "width\n",
      "ldr\n",
      "Z_bias\n",
      "Z_error\n",
      "Z_sensitivity\n",
      "beta\n",
      "beta_bias\n",
      "beta_error\n",
      "lidar_depolarisation\n",
      "temperature\n",
      "pressure\n",
      "specific_humidity\n",
      "uwind\n",
      "vwind\n",
      "radar_gas_atten\n",
      "radar_liquid_atten\n",
      "sigma_zbeta\n",
      "mean_zbeta\n",
      "numgates_zbeta\n",
      "category_bits\n",
      "quality_bits\n"
     ]
    }
   ],
   "source": [
    "# make variables more readable\n",
    "for variable in f.variables.keys(): \n",
    "    print(variable)\n",
    "    \n",
    "# copy time and height values to local variables   \n",
    "time = f.variables['time'][:]\n",
    "height = f.variables['height'][:]\n",
    "\n",
    "rainrate = f.variables['rainrate'][:]\n"
   ]
  },
  {
   "cell_type": "code",
   "execution_count": 4,
   "metadata": {},
   "outputs": [],
   "source": [
    "%matplotlib inline\n"
   ]
  },
  {
   "cell_type": "code",
   "execution_count": 5,
   "metadata": {},
   "outputs": [],
   "source": [
    "airtemps = xr.tutorial.open_dataset(\"air_temperature\")"
   ]
  },
  {
   "cell_type": "code",
   "execution_count": 6,
   "metadata": {},
   "outputs": [
    {
     "data": {
      "text/plain": [
       "<xarray.Dataset>\n",
       "Dimensions:  (lat: 25, lon: 53, time: 2920)\n",
       "Coordinates:\n",
       "  * lat      (lat) float32 75.0 72.5 70.0 67.5 65.0 ... 25.0 22.5 20.0 17.5 15.0\n",
       "  * lon      (lon) float32 200.0 202.5 205.0 207.5 ... 322.5 325.0 327.5 330.0\n",
       "  * time     (time) datetime64[ns] 2013-01-01 ... 2014-12-31T18:00:00\n",
       "Data variables:\n",
       "    air      (time, lat, lon) float32 ...\n",
       "Attributes:\n",
       "    Conventions:  COARDS\n",
       "    title:        4x daily NMC reanalysis (1948)\n",
       "    description:  Data is from NMC initialized reanalysis\\n(4x/day).  These a...\n",
       "    platform:     Model\n",
       "    references:   http://www.esrl.noaa.gov/psd/data/gridded/data.ncep.reanaly..."
      ]
     },
     "execution_count": 6,
     "metadata": {},
     "output_type": "execute_result"
    }
   ],
   "source": [
    "airtemps"
   ]
  },
  {
   "cell_type": "code",
   "execution_count": 7,
   "metadata": {},
   "outputs": [],
   "source": [
    "# Convert to celsius\n",
    "air = airtemps.air - 273.15\n",
    "# copy attributes to get nice figure labels and change Kelvin to Celsius\n",
    "air.attrs = airtemps.air.attrs\n",
    "air.attrs[\"units\"] = \"deg C\"\n"
   ]
  },
  {
   "cell_type": "code",
   "execution_count": 8,
   "metadata": {},
   "outputs": [],
   "source": [
    "# select one grid box\n",
    "air1d = air.isel(lat=10, lon=10)"
   ]
  },
  {
   "cell_type": "code",
   "execution_count": 9,
   "metadata": {},
   "outputs": [
    {
     "data": {
      "text/plain": [
       "<xarray.DataArray 'air' (time: 2920)>\n",
       "array([7.640015, 7.850006, 8.049988, ..., 9.339996, 9.339996, 9.540009],\n",
       "      dtype=float32)\n",
       "Coordinates:\n",
       "    lat      float32 50.0\n",
       "    lon      float32 225.0\n",
       "  * time     (time) datetime64[ns] 2013-01-01 ... 2014-12-31T18:00:00\n",
       "Attributes:\n",
       "    long_name:     4xDaily Air temperature at sigma level 995\n",
       "    units:         deg C\n",
       "    precision:     2\n",
       "    GRIB_id:       11\n",
       "    GRIB_name:     TMP\n",
       "    var_desc:      Air temperature\n",
       "    dataset:       NMC Reanalysis\n",
       "    level_desc:    Surface\n",
       "    statistic:     Individual Obs\n",
       "    parent_stat:   Other\n",
       "    actual_range:  [185.16 322.1 ]"
      ]
     },
     "execution_count": 9,
     "metadata": {},
     "output_type": "execute_result"
    }
   ],
   "source": [
    "air1d"
   ]
  },
  {
   "cell_type": "code",
   "execution_count": 10,
   "metadata": {},
   "outputs": [
    {
     "ename": "NameError",
     "evalue": "name 'plt' is not defined",
     "output_type": "error",
     "traceback": [
      "\u001b[0;31m---------------------------------------------------------------------------\u001b[0m",
      "\u001b[0;31mNameError\u001b[0m                                 Traceback (most recent call last)",
      "\u001b[0;32m<ipython-input-10-f6203d7c892b>\u001b[0m in \u001b[0;36m<module>\u001b[0;34m\u001b[0m\n\u001b[0;32m----> 1\u001b[0;31m \u001b[0mfig\u001b[0m\u001b[0;34m,\u001b[0m \u001b[0max\u001b[0m \u001b[0;34m=\u001b[0m \u001b[0mplt\u001b[0m\u001b[0;34m.\u001b[0m\u001b[0msubplots\u001b[0m\u001b[0;34m(\u001b[0m\u001b[0;36m1\u001b[0m\u001b[0;34m)\u001b[0m\u001b[0;34m\u001b[0m\u001b[0;34m\u001b[0m\u001b[0m\n\u001b[0m\u001b[1;32m      2\u001b[0m \u001b[0max\u001b[0m\u001b[0;34m.\u001b[0m\u001b[0mplot\u001b[0m\u001b[0;34m(\u001b[0m\u001b[0mair1d\u001b[0m\u001b[0;34m.\u001b[0m\u001b[0mtime\u001b[0m\u001b[0;34m,\u001b[0m \u001b[0mair1d\u001b[0m\u001b[0;34m)\u001b[0m\u001b[0;34m\u001b[0m\u001b[0;34m\u001b[0m\u001b[0m\n\u001b[1;32m      3\u001b[0m \u001b[0max\u001b[0m\u001b[0;34m.\u001b[0m\u001b[0mxaxis\u001b[0m\u001b[0;34m.\u001b[0m\u001b[0mset_major_formatter\u001b[0m\u001b[0;34m(\u001b[0m\u001b[0mmatplotlib\u001b[0m\u001b[0;34m.\u001b[0m\u001b[0mdates\u001b[0m\u001b[0;34m.\u001b[0m\u001b[0mDateFormatter\u001b[0m\u001b[0;34m(\u001b[0m\u001b[0;34m'%y/%m'\u001b[0m\u001b[0;34m)\u001b[0m\u001b[0;34m)\u001b[0m\u001b[0;34m\u001b[0m\u001b[0;34m\u001b[0m\u001b[0m\n",
      "\u001b[0;31mNameError\u001b[0m: name 'plt' is not defined"
     ]
    }
   ],
   "source": [
    "fig, ax = plt.subplots(1)\n",
    "ax.plot(air1d.time, air1d)\n",
    "ax.xaxis.set_major_formatter(matplotlib.dates.DateFormatter('%y/%m'))"
   ]
  },
  {
   "cell_type": "code",
   "execution_count": null,
   "metadata": {},
   "outputs": [],
   "source": [
    "# plot with the rainrate\n",
    "\n",
    "import matplotlib.pyplot as plt\n",
    "import matplotlib\n",
    "\n",
    "fig, ax = plt.subplots(1, figsize=(14,7))\n",
    "ax.plot(time, rainrate, 'r-^')\n",
    "#ax.plot(time, rainrate)\n",
    "\n",
    "# some more visual candy\n",
    "ax.xaxis.set_major_formatter(matplotlib.dates.DateFormatter('%H:%M'))"
   ]
  },
  {
   "cell_type": "code",
   "execution_count": null,
   "metadata": {},
   "outputs": [],
   "source": [
    "# Some adjustments to the axis labels, ticks and fonts\n",
    "def load_xy_style(ax, xlabel='Time [UTC]', ylabel='Height [m]'):\n",
    "    \"\"\"\n",
    "    Method that alters the apperance of labels on the x and y axis in place.\n",
    "    \n",
    "    Note:\n",
    "        If xlabel == 'Time [UTC]', the x axis set to major \n",
    "        ticks every 3 hours and minor ticks every 30 minutes.\n",
    "    \n",
    "    Args:\n",
    "        ax (matplotlib.axis) :: axis that gets adjusted\n",
    "        **xlabel (string) :: name of the x axis label\n",
    "        **ylabel (string) :: name of the y axis label\n",
    "    \n",
    "    \"\"\"\n",
    "    \n",
    "    ax.set_xlabel(xlabel, fontweight='semibold', fontsize=15)\n",
    "    ax.set_ylabel(ylabel, fontweight='semibold', fontsize=15) \n",
    "    if xlabel == 'Time [UTC]':\n",
    "        ax.xaxis.set_major_formatter(matplotlib.dates.DateFormatter('%H:%M'))\n",
    "        ax.xaxis.set_major_locator(matplotlib.dates.HourLocator(interval=3))\n",
    "        ax.xaxis.set_minor_locator(matplotlib.dates.MinuteLocator(byminute=[0,30]))\n",
    "        ax.yaxis.set_minor_locator(matplotlib.ticker.MultipleLocator(500))\n",
    "    ax.tick_params(axis='both', which='major', labelsize=14, width=3, length=4)\n",
    "    ax.tick_params(axis='both', which='minor', width=2, length=3)\n",
    "    \n",
    "def load_cbar_style(cbar, cbar_label=''):\n",
    "    \"\"\"\n",
    "    Method that alters the apperance of labels on the color bar axis in place.\n",
    "    \n",
    "    Args:\n",
    "        ax (matplotlib.axis) :: axis that gets adjusted\n",
    "        **cbar_label (string) :: name of the cbar axis label, Defaults to empty string.\n",
    "    \n",
    "    \"\"\"\n",
    "    cbar.ax.set_ylabel(cbar_label, fontweight='semibold', fontsize=15)\n",
    "    cbar.ax.tick_params(axis='both', which='major', labelsize=14, width=2, length=4)"
   ]
  },
  {
   "cell_type": "code",
   "execution_count": null,
   "metadata": {
    "scrolled": false
   },
   "outputs": [],
   "source": [
    "# reflectivity plot\n",
    "\n",
    "Z = f['Z'].values\n",
    "print(np.nanmin(Z))\n",
    "\n",
    "Z = np.ma.masked_less(Z, -99)\n",
    "\n",
    "fig, ax = plt.subplots(1, figsize=(14, 5.7))\n",
    "pcmesh = ax.pcolormesh(time, height, np.transpose(Z), cmap='jet', vmin=-40, vmax=20)\n",
    "cbar = fig.colorbar(pcmesh)\n",
    "\n",
    "load_xy_style(ax)\n",
    "load_cbar_style(cbar, cbar_label=\"Refelctivity [dBZ]\")\n"
   ]
  },
  {
   "cell_type": "code",
   "execution_count": null,
   "metadata": {},
   "outputs": [],
   "source": [
    "# similar for velocity\n",
    "import Colormaps\n",
    "\n",
    "\n",
    "v = f['v'].values\n",
    "v = np.ma.masked_less(v, -99)\n",
    "\n",
    "fig, ax = plt.subplots(1, figsize=(14, 5.7))\n",
    "pcmesh = ax.pcolormesh(time, height, np.transpose(v),\n",
    "                       cmap=Colormaps.cloudnet_map, vmin=-4, vmax=4)\n",
    "\n",
    "cbar = fig.colorbar(pcmesh)\n",
    "\n",
    "load_xy_style(ax)\n",
    "load_cbar_style(cbar, cbar_label=r\"Mean Doppler Velocity [m s$^{-1}$]\")"
   ]
  },
  {
   "cell_type": "code",
   "execution_count": null,
   "metadata": {},
   "outputs": [],
   "source": [
    "# 2d histogram\n",
    "\n",
    "mask = np.ma.mask_or(Z.mask, v.mask)\n",
    "Z.mask = mask\n",
    "v.mask = mask\n",
    "H, xedges, yedges = np.histogram2d(Z[~np.isnan(Z)].flatten(), v[~np.isnan(v)].flatten(),\n",
    "                                   bins=[100,100])\n",
    "\n",
    "fig, ax = plt.subplots(1, figsize=(10, 5.7))\n",
    "pcmesh = ax.pcolormesh(xedges, yedges, np.transpose(H),\n",
    "                       norm=matplotlib.colors.LogNorm(1, vmax=1000),\n",
    "                       cmap='viridis')\n",
    "cbar = fig.colorbar(pcmesh)\n",
    "\n",
    "load_xy_style(ax, xlabel='Refelctivity [dBZ]', ylabel=r\"Mean Doppler Velocity [m s$^{-1}$]\")\n",
    "load_cbar_style(cbar, cbar_label='Number of Occurrences')\n",
    "ax.grid()"
   ]
  },
  {
   "cell_type": "code",
   "execution_count": null,
   "metadata": {},
   "outputs": [],
   "source": [
    "import pandas as pd\n",
    "datestring = pd.to_datetime(time[0].values).strftime(\"%Y%m%d\")"
   ]
  },
  {
   "cell_type": "code",
   "execution_count": null,
   "metadata": {
    "scrolled": false
   },
   "outputs": [],
   "source": [
    "# lidar beta and linear depolarization in one figure with two subplots\n",
    "\n",
    "beta, depol = f['beta'].values, f['lidar_depolarisation'].values\n",
    "\n",
    "fig, (ax0, ax1) = plt.subplots(nrows=2, ncols=1, figsize=(16, 16))\n",
    "ax0_pcmesh = ax0.pcolormesh(time, height, np.transpose(beta), cmap='jet', \n",
    "                              norm=matplotlib.colors.LogNorm(1.e-7, vmax=1.e-4))\n",
    "ax0_cbar = fig.colorbar(ax0_pcmesh, ax=ax0)\n",
    "load_xy_style(ax0)\n",
    "load_cbar_style(ax0_cbar, cbar_label=r\"attenuated backscatter coefficient [m$^{-1}$ sr$^{-1}$]\")\n",
    "\n",
    "depol = np.ma.masked_less_equal(depol, 0.0)    # mask values below (incl) 0 for better visibility\n",
    "ax1_pcmesh = ax1.pcolormesh(time, height, np.transpose(depol), cmap='jet', vmin=0, vmax=0.2)\n",
    "ax1_cbar = fig.colorbar(ax1_pcmesh, ax=ax1)\n",
    "load_xy_style(ax1)\n",
    "load_cbar_style(ax1_cbar, cbar_label=r\"linear volume depolarization [-]\")\n",
    "\n",
    "ax0.set_ylim([0, 8000])\n",
    "ax1.set_ylim([0, 8000])\n",
    "\n",
    "savename = f'{datestring}_beta_depol.png'\n",
    "print(f'save figure: {savename}')\n",
    "fig.savefig(savename, dpi=250)"
   ]
  },
  {
   "cell_type": "code",
   "execution_count": null,
   "metadata": {},
   "outputs": [],
   "source": [
    "# subplots\n",
    "fig, axes = plt.subplots(ncols=2)\n",
    "air1d.plot(ax=axes[0])\n",
    "air1d.plot.hist(ax=axes[1])\n",
    "plt.tight_layout()"
   ]
  },
  {
   "cell_type": "code",
   "execution_count": null,
   "metadata": {},
   "outputs": [],
   "source": [
    "air2d = air.isel(time=500)"
   ]
  },
  {
   "cell_type": "code",
   "execution_count": null,
   "metadata": {},
   "outputs": [],
   "source": [
    "air2d.plot()"
   ]
  },
  {
   "cell_type": "code",
   "execution_count": null,
   "metadata": {},
   "outputs": [],
   "source": [
    "# slice to pick 6 times throughout the year\n",
    "air = xr.tutorial.open_dataset(\"air_temperature\").air\n",
    "t = air.isel(time=slice(0, 365 * 4, 250))\n",
    "g_simple = t.plot(x=\"lon\", y=\"lat\", col=\"time\", col_wrap=3)"
   ]
  }
 ],
 "metadata": {
  "kernelspec": {
   "display_name": "Python 3",
   "language": "python",
   "name": "python3"
  },
  "language_info": {
   "codemirror_mode": {
    "name": "ipython",
    "version": 3
   },
   "file_extension": ".py",
   "mimetype": "text/x-python",
   "name": "python",
   "nbconvert_exporter": "python",
   "pygments_lexer": "ipython3",
   "version": "3.6.7"
  }
 },
 "nbformat": 4,
 "nbformat_minor": 2
}
