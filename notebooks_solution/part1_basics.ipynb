{
 "cells": [
  {
   "cell_type": "markdown",
   "metadata": {},
   "source": [
    "## Part 1 Basics: \n",
    "## Use the reference sheet: https://ipgp.github.io/scientific_python_cheat_sheet/\n",
    "### numeric types"
   ]
  },
  {
   "cell_type": "code",
   "execution_count": 1,
   "metadata": {},
   "outputs": [
    {
     "data": {
      "text/plain": [
       "float"
      ]
     },
     "execution_count": 1,
     "metadata": {},
     "output_type": "execute_result"
    }
   ],
   "source": [
    "a = 1\n",
    "b = 1.0\n",
    "c = complex(1)\n",
    "\n",
    "type(a)\n",
    "type(b)\n",
    "type(c.real)\n",
    "type(c.imag)"
   ]
  },
  {
   "cell_type": "markdown",
   "metadata": {},
   "source": [
    "### strings"
   ]
  },
  {
   "cell_type": "code",
   "execution_count": 2,
   "metadata": {},
   "outputs": [
    {
     "name": "stdout",
     "output_type": "stream",
     "text": [
      "allows embedded \"double\" quotes\n",
      "allows embedded 'single' quotes.\n",
      "s is allows embedded \"double\" quotes and s2 is allows embedded 'single' quotes.\n",
      "the type of a is <class 'float'> and its value is 1.0\n"
     ]
    }
   ],
   "source": [
    "\n",
    "s = 'allows embedded \"double\" quotes'\n",
    "s2 =  \"allows embedded 'single' quotes.\"\n",
    "\n",
    "print(s)\n",
    "print(s2)\n",
    "\n",
    "print(f's is {s} and s2 is {s2}')\n",
    "print(f'the type of a is {type(b)} and its value is {b}')"
   ]
  },
  {
   "cell_type": "code",
   "execution_count": 3,
   "metadata": {},
   "outputs": [
    {
     "name": "stdout",
     "output_type": "stream",
     "text": [
      "Hello World\n",
      "8.0\n",
      "10750.0\n"
     ]
    }
   ],
   "source": [
    "# a comment\n",
    "# strings and integers\n",
    "string = 'Hello'\n",
    "print(string + ' World')\n",
    "\n",
    "ainteger = 3\n",
    "afloat = 5.\n",
    "print(afloat + ainteger)\n",
    "\n",
    "anotherfloat = 4.3e5\n",
    "print(anotherfloat / 40)"
   ]
  },
  {
   "cell_type": "code",
   "execution_count": 4,
   "metadata": {
    "scrolled": true
   },
   "outputs": [
    {
     "name": "stdout",
     "output_type": "stream",
     "text": [
      "Does \n",
      "butterfly\n",
      "Texas?\n"
     ]
    }
   ],
   "source": [
    "#subsetting strings\n",
    "lorenzquote = \"\"\"Does the flap of a butterfly’s wings \n",
    "in Brazil set off a tornado in Texas?\"\"\"\n",
    "substring = lorenzquote[:5]\n",
    "print(substring)\n",
    "print(lorenzquote[19:28])\n",
    "print(lorenzquote[-6:])"
   ]
  },
  {
   "cell_type": "markdown",
   "metadata": {},
   "source": [
    "### type conversion"
   ]
  },
  {
   "cell_type": "code",
   "execution_count": 5,
   "metadata": {},
   "outputs": [
    {
     "name": "stdout",
     "output_type": "stream",
     "text": [
      "The answer is 42\n",
      "3.1415 <class 'float'>\n"
     ]
    }
   ],
   "source": [
    "print('The answer is ' +  str(42))\n",
    "\n",
    "tofloat = float('3.1415')\n",
    "print(tofloat, type(tofloat))"
   ]
  },
  {
   "cell_type": "markdown",
   "metadata": {},
   "source": [
    "### lists and tuples"
   ]
  },
  {
   "cell_type": "code",
   "execution_count": 6,
   "metadata": {},
   "outputs": [
    {
     "name": "stdout",
     "output_type": "stream",
     "text": [
      "['one', 2, 3]\n",
      "9\n",
      "['five', 4, 3, 2, 'one']\n",
      "['one', 2, 3, 4, 10, '6']\n",
      "length of alist:  6\n",
      "('a', 'b', 'c')\n"
     ]
    }
   ],
   "source": [
    "\n",
    "alist = ['one', 2, 3, 4, 'five']\n",
    "print(alist[0:3])\n",
    "\n",
    "#print(sum(alist))\n",
    "print(sum(alist[1:4]))\n",
    "\n",
    "print(alist[::-1])\n",
    "\n",
    "alist.append('6')\n",
    "alist[4] = 10\n",
    "print(alist)\n",
    "\n",
    "print('length of alist: ', len(alist))\n",
    "\n",
    "# tuples\n",
    "atupel = ('a', 'b', 'c')\n",
    "print(atupel)\n",
    "#atupel[1] = 'd'"
   ]
  },
  {
   "cell_type": "code",
   "execution_count": 7,
   "metadata": {},
   "outputs": [
    {
     "name": "stdout",
     "output_type": "stream",
     "text": [
      "['raspberries', 'bananas', 'oranges']\n"
     ]
    },
    {
     "ename": "TypeError",
     "evalue": "'tuple' object does not support item assignment",
     "output_type": "error",
     "traceback": [
      "\u001b[0;31m---------------------------------------------------------------------------\u001b[0m",
      "\u001b[0;31mTypeError\u001b[0m                                 Traceback (most recent call last)",
      "\u001b[0;32m<ipython-input-7-4466c24425c7>\u001b[0m in \u001b[0;36m<module>\u001b[0;34m\u001b[0m\n\u001b[1;32m      6\u001b[0m \u001b[0mprint\u001b[0m\u001b[0;34m(\u001b[0m\u001b[0mfruit_list\u001b[0m\u001b[0;34m)\u001b[0m\u001b[0;34m\u001b[0m\u001b[0;34m\u001b[0m\u001b[0m\n\u001b[1;32m      7\u001b[0m \u001b[0;34m\u001b[0m\u001b[0m\n\u001b[0;32m----> 8\u001b[0;31m \u001b[0mfruit_tuple\u001b[0m\u001b[0;34m[\u001b[0m\u001b[0;36m0\u001b[0m\u001b[0;34m]\u001b[0m \u001b[0;34m=\u001b[0m \u001b[0;34m'raspberries'\u001b[0m\u001b[0;34m\u001b[0m\u001b[0;34m\u001b[0m\u001b[0m\n\u001b[0m",
      "\u001b[0;31mTypeError\u001b[0m: 'tuple' object does not support item assignment"
     ]
    }
   ],
   "source": [
    "# the difference between lists and tuples (mutable vs. immutable)\n",
    "fruit_list = [\"apples\", \"bananas\", \"oranges\"]\n",
    "fruit_tuple = (\"apples\", \"bananas\", \"oranges\")\n",
    "\n",
    "fruit_list[0] = 'raspberries'\n",
    "print(fruit_list)\n",
    "\n",
    "fruit_tuple[0] = 'raspberries'"
   ]
  },
  {
   "cell_type": "markdown",
   "metadata": {},
   "source": [
    "### dictionaries"
   ]
  },
  {
   "cell_type": "code",
   "execution_count": 8,
   "metadata": {},
   "outputs": [
    {
     "name": "stdout",
     "output_type": "stream",
     "text": [
      "a value\n",
      "another value\n"
     ]
    }
   ],
   "source": [
    "\n",
    "adict = {1: 'a value', 'two': 'another value'}\n",
    "\n",
    "print(adict[1])\n",
    "print(adict['two'])"
   ]
  },
  {
   "cell_type": "markdown",
   "metadata": {},
   "source": [
    "### conditions\n"
   ]
  },
  {
   "cell_type": "code",
   "execution_count": 10,
   "metadata": {},
   "outputs": [
    {
     "name": "stdout",
     "output_type": "stream",
     "text": [
      "Condition fulfilled\n",
      "Ci not in list\n",
      "True\n"
     ]
    }
   ],
   "source": [
    "# if else\n",
    "cond = 't'\n",
    "if cond == 't':\n",
    "    print('Condition fulfilled')\n",
    "else:\n",
    "    print('Condition not fulfilled')\n",
    "    \n",
    "cloud = 'Ci'\n",
    "if cloud not in ['Sc', 'Ac', 'Cu', 'Ns']:\n",
    "    print(cloud + ' not in list')\n",
    "    \n",
    "# boolean logic\n",
    "print(3 > 5 or 10 < 12)"
   ]
  },
  {
   "cell_type": "markdown",
   "metadata": {},
   "source": [
    "### loops"
   ]
  },
  {
   "cell_type": "code",
   "execution_count": 11,
   "metadata": {},
   "outputs": [
    {
     "name": "stdout",
     "output_type": "stream",
     "text": [
      "Sc\n",
      "Ac\n",
      "Cu\n",
      "Ns\n"
     ]
    }
   ],
   "source": [
    "# for loop\n",
    "for cloud in ['Sc', 'Ac', 'Cu', 'Ns']:\n",
    "    print(cloud)"
   ]
  },
  {
   "cell_type": "code",
   "execution_count": 12,
   "metadata": {},
   "outputs": [
    {
     "name": "stdout",
     "output_type": "stream",
     "text": [
      "0\n",
      "1\n",
      "2\n",
      "3\n",
      "4\n"
     ]
    }
   ],
   "source": [
    "# while loop\n",
    "x = 0\n",
    "while x < 5:\n",
    "    print(x)\n",
    "    x += 1"
   ]
  },
  {
   "cell_type": "markdown",
   "metadata": {},
   "source": [
    "### functions"
   ]
  },
  {
   "cell_type": "code",
   "execution_count": 13,
   "metadata": {},
   "outputs": [
    {
     "name": "stdout",
     "output_type": "stream",
     "text": [
      "15.0\n"
     ]
    }
   ],
   "source": [
    "def dosomemath(number):\n",
    "    result = (number+3)*10/number\n",
    "    return result\n",
    "\n",
    "# call the function\n",
    "result = dosomemath(6)\n",
    "print(result)"
   ]
  },
  {
   "cell_type": "code",
   "execution_count": 14,
   "metadata": {},
   "outputs": [
    {
     "name": "stdout",
     "output_type": "stream",
     "text": [
      "the\n",
      "butterfly’s\n",
      "Brazil\n",
      "tornado\n",
      "Texas?\n"
     ]
    }
   ],
   "source": [
    "def words_with_torb(sentence):\n",
    "    words = sentence.split(' ')\n",
    "    for word in words:\n",
    "        firstletter = word[0].lower()\n",
    "        if firstletter == 't' or firstletter == 'b':\n",
    "            print(word)\n",
    "            \n",
    "words_with_torb(lorenzquote)"
   ]
  },
  {
   "cell_type": "code",
   "execution_count": null,
   "metadata": {},
   "outputs": [],
   "source": []
  },
  {
   "cell_type": "code",
   "execution_count": null,
   "metadata": {},
   "outputs": [],
   "source": []
  }
 ],
 "metadata": {
  "kernelspec": {
   "display_name": "Python 3",
   "language": "python",
   "name": "python3"
  },
  "language_info": {
   "codemirror_mode": {
    "name": "ipython",
    "version": 3
   },
   "file_extension": ".py",
   "mimetype": "text/x-python",
   "name": "python",
   "nbconvert_exporter": "python",
   "pygments_lexer": "ipython3",
   "version": "3.6.7"
  }
 },
 "nbformat": 4,
 "nbformat_minor": 2
}
