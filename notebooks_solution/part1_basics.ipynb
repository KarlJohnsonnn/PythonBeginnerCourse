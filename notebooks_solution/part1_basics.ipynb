{
 "cells": [
  {
   "cell_type": "markdown",
   "metadata": {},
   "source": [
    "Reference Sheet: https://ipgp.github.io/scientific_python_cheat_sheet/"
   ]
  },
  {
   "cell_type": "code",
   "execution_count": 1,
   "metadata": {},
   "outputs": [
    {
     "name": "stdout",
     "output_type": "stream",
     "text": [
      "Hello World\n",
      "8.0\n",
      "10750.0\n"
     ]
    }
   ],
   "source": [
    "# a comment\n",
    "# strings and integers\n",
    "string = 'Hello'\n",
    "print(string + ' World')\n",
    "\n",
    "ainteger = 3\n",
    "afloat = 5.\n",
    "print(afloat + ainteger)\n",
    "\n",
    "anotherfloat = 4.3e5\n",
    "print(anotherfloat / 40)"
   ]
  },
  {
   "cell_type": "code",
   "execution_count": 2,
   "metadata": {
    "scrolled": true
   },
   "outputs": [
    {
     "name": "stdout",
     "output_type": "stream",
     "text": [
      "Does \n",
      "butterfly\n",
      "Texas?\n"
     ]
    }
   ],
   "source": [
    "#subsetting strings\n",
    "lorenzquote = \"\"\"Does the flap of a butterfly’s wings \n",
    "in Brazil set off a tornado in Texas?\"\"\"\n",
    "substring = lorenzquote[:5]\n",
    "print(substring)\n",
    "print(lorenzquote[19:28])\n",
    "print(lorenzquote[-6:])"
   ]
  },
  {
   "cell_type": "code",
   "execution_count": null,
   "metadata": {},
   "outputs": [],
   "source": [
    "# type conversion\n",
    "print('The answer is ' +  str(42))\n",
    "\n",
    "tofloat = float('3.1415')\n",
    "print(tofloat, type(tofloat))"
   ]
  },
  {
   "cell_type": "code",
   "execution_count": 4,
   "metadata": {},
   "outputs": [
    {
     "name": "stdout",
     "output_type": "stream",
     "text": [
      "['one', 2, 3]\n",
      "9\n",
      "['five', 4, 3, 2, 'one']\n",
      "['one', 2, 3, 4, 10, '6']\n",
      "length of alist:  6\n",
      "('a', 'b', 'c')\n"
     ]
    }
   ],
   "source": [
    "# lists\n",
    "alist = ['one', 2, 3, 4, 'five']\n",
    "print(alist[0:3])\n",
    "\n",
    "#print(sum(alist))\n",
    "print(sum(alist[1:4]))\n",
    "\n",
    "print(alist[::-1])\n",
    "\n",
    "alist.append('6')\n",
    "alist[4] = 10\n",
    "print(alist)\n",
    "\n",
    "print('length of alist: ', len(alist))\n",
    "\n",
    "# tupels\n",
    "atupel = ('a', 'b', 'c')\n",
    "print(atupel)\n",
    "#atupel[1] = 'd'"
   ]
  },
  {
   "cell_type": "code",
   "execution_count": 5,
   "metadata": {},
   "outputs": [
    {
     "name": "stdout",
     "output_type": "stream",
     "text": [
      "a value\n",
      "another value\n"
     ]
    }
   ],
   "source": [
    "# dictionaries\n",
    "adict = {1: 'a value', 'two': 'another value'}\n",
    "\n",
    "print(adict[1])\n",
    "print(adict['two'])"
   ]
  },
  {
   "cell_type": "code",
   "execution_count": null,
   "metadata": {},
   "outputs": [],
   "source": [
    "# if else\n",
    "cond = 't'\n",
    "if cond == 't':\n",
    "    print('Condition fulfilled')\n",
    "else:\n",
    "    print('Condition not fulfilled')\n",
    "    \n",
    "cloud = 'Ci'\n",
    "if cloud not in ['Sc', 'Ac', 'Cu', 'Ns']:\n",
    "    print(cloud + ' not in list')\n",
    "    \n",
    "# boolean logic\n",
    "print(3 > 5 or 10 < 12)"
   ]
  },
  {
   "cell_type": "code",
   "execution_count": null,
   "metadata": {},
   "outputs": [],
   "source": [
    "# for loop\n",
    "for cloud in ['Sc', 'Ac', 'Cu', 'Ns']:\n",
    "    print(cloud)"
   ]
  },
  {
   "cell_type": "code",
   "execution_count": null,
   "metadata": {},
   "outputs": [],
   "source": [
    "# while loop\n",
    "x = 0\n",
    "while x < 5:\n",
    "    print(x)\n",
    "    x += 1"
   ]
  },
  {
   "cell_type": "code",
   "execution_count": null,
   "metadata": {},
   "outputs": [],
   "source": [
    "# functions\n",
    "def dosomemath(number):\n",
    "    result = (number+3)*10/number\n",
    "    return result\n",
    "\n",
    "result = dosomemath(6)\n",
    "print(result)"
   ]
  },
  {
   "cell_type": "code",
   "execution_count": null,
   "metadata": {},
   "outputs": [],
   "source": [
    "def words_with_torb(sentence):\n",
    "    words = sentence.split(' ')\n",
    "    for word in words:\n",
    "        firstletter = word[0].lower()\n",
    "        if firstletter == 't' or firstletter == 'b':\n",
    "            print(word)\n",
    "            \n",
    "words_with_torb(lorenzquote)"
   ]
  },
  {
   "cell_type": "code",
   "execution_count": null,
   "metadata": {},
   "outputs": [],
   "source": []
  },
  {
   "cell_type": "code",
   "execution_count": null,
   "metadata": {},
   "outputs": [],
   "source": []
  }
 ],
 "metadata": {
  "kernelspec": {
   "display_name": "Python 3",
   "language": "python",
   "name": "python3"
  },
  "language_info": {
   "codemirror_mode": {
    "name": "ipython",
    "version": 3
   },
   "file_extension": ".py",
   "mimetype": "text/x-python",
   "name": "python",
   "nbconvert_exporter": "python",
   "pygments_lexer": "ipython3",
   "version": "3.6.7"
  }
 },
 "nbformat": 4,
 "nbformat_minor": 2
}
