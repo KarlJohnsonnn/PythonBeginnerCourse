{
 "cells": [
  {
   "cell_type": "code",
   "execution_count": 2,
   "metadata": {},
   "outputs": [],
   "source": [
    "import datetime"
   ]
  },
  {
   "cell_type": "code",
   "execution_count": 3,
   "metadata": {},
   "outputs": [
    {
     "name": "stdout",
     "output_type": "stream",
     "text": [
      "2018-06-28 18:30:00\n",
      "<class 'datetime.datetime'>\n",
      "2018-06-29 00:30:00\n",
      "2018-07-03 08:44:26.673089\n",
      "4 days, 14:14:26.673089\n"
     ]
    }
   ],
   "source": [
    "atime = datetime.datetime(2018,6,28,18,30)\n",
    "\n",
    "print(atime)\n",
    "print(type(atime))\n",
    "later = atime + datetime.timedelta(hours=6)\n",
    "print(later)\n",
    "\n",
    "today = datetime.datetime.now()\n",
    "print(today)\n",
    "\n",
    "print(today - atime)"
   ]
  },
  {
   "cell_type": "code",
   "execution_count": 4,
   "metadata": {},
   "outputs": [
    {
     "name": "stdout",
     "output_type": "stream",
     "text": [
      "2017-11-21_1630\n"
     ]
    }
   ],
   "source": [
    "timestring = \"21/11/17 16:30\"\n",
    "anothertime = datetime.datetime.strptime(timestring, \"%d/%m/%y %H:%M\")\n",
    "\n",
    "newtimestring = anothertime.strftime('%Y-%m-%d_%H%M')\n",
    "print(newtimestring)"
   ]
  },
  {
   "cell_type": "code",
   "execution_count": 5,
   "metadata": {},
   "outputs": [
    {
     "data": {
      "text/plain": [
       "[datetime.datetime(2018, 6, 28, 0, 0),\n",
       " datetime.datetime(2018, 6, 29, 0, 0),\n",
       " datetime.datetime(2018, 6, 30, 0, 0),\n",
       " datetime.datetime(2018, 7, 1, 0, 0),\n",
       " datetime.datetime(2018, 7, 2, 0, 0),\n",
       " datetime.datetime(2018, 7, 3, 0, 0)]"
      ]
     },
     "execution_count": 5,
     "metadata": {},
     "output_type": "execute_result"
    }
   ],
   "source": [
    "def timerange(begin, end):\n",
    "    result = []\n",
    "    pivot = begin\n",
    "    while pivot <= end:\n",
    "        result.append(pivot)\n",
    "        pivot += datetime.timedelta(days=1)\n",
    "    return result\n",
    "\n",
    "timerange(datetime.datetime(2018,6,28), today)"
   ]
  },
  {
   "cell_type": "code",
   "execution_count": 8,
   "metadata": {},
   "outputs": [
    {
     "name": "stdout",
     "output_type": "stream",
     "text": [
      "['2018051011_pangaea.txt', '2018051911_pangaea.txt', '20180624_leipzig_categorize.nc']\n"
     ]
    }
   ],
   "source": [
    "import os\n",
    "\n",
    "#os.chdir('data')\n",
    "filelist = os.listdir('data')\n",
    "\n",
    "print(filelist)"
   ]
  },
  {
   "cell_type": "code",
   "execution_count": 9,
   "metadata": {},
   "outputs": [
    {
     "data": {
      "text/plain": [
       "datetime.datetime(2018, 5, 19, 0, 0)"
      ]
     },
     "execution_count": 9,
     "metadata": {},
     "output_type": "execute_result"
    }
   ],
   "source": [
    "# mini exercise\n",
    "def dt_from_filename(filename):\n",
    "    return datetime.datetime.strptime(filename[:8], '%Y%m%d')\n",
    "\n",
    "dt_from_filename(filelist[1])"
   ]
  },
  {
   "cell_type": "code",
   "execution_count": 10,
   "metadata": {},
   "outputs": [
    {
     "data": {
      "text/plain": [
       "[datetime.datetime(2018, 5, 10, 0, 0),\n",
       " datetime.datetime(2018, 5, 19, 0, 0),\n",
       " datetime.datetime(2018, 6, 24, 0, 0)]"
      ]
     },
     "execution_count": 10,
     "metadata": {},
     "output_type": "execute_result"
    }
   ],
   "source": [
    "# list comprehension\n",
    "[dt_from_filename(filename) for filename in filelist]"
   ]
  },
  {
   "cell_type": "code",
   "execution_count": null,
   "metadata": {},
   "outputs": [],
   "source": []
  }
 ],
 "metadata": {
  "kernelspec": {
   "display_name": "Python 3",
   "language": "python",
   "name": "python3"
  },
  "language_info": {
   "codemirror_mode": {
    "name": "ipython",
    "version": 3
   },
   "file_extension": ".py",
   "mimetype": "text/x-python",
   "name": "python",
   "nbconvert_exporter": "python",
   "pygments_lexer": "ipython3",
   "version": "3.6.7"
  }
 },
 "nbformat": 4,
 "nbformat_minor": 2
}
