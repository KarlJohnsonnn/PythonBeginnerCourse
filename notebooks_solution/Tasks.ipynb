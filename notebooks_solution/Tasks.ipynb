{
 "cells": [
  {
   "cell_type": "markdown",
   "metadata": {},
   "source": [
    "# Tasks\n",
    "\n",
    "## basic - part-1: https://www.w3resource.com/python-exercises/python-basic-exercises.php\n",
    "\n",
    "#### 4. Write a Python program which accepts the radius of a circle from the user and compute the area. \n",
    "Sample Output :\n",
    "r = 1.1\n",
    "Area = 3.8013271108436504\n",
    "\n",
    "#### 8. Write a Python program to display the first and last colors from the following list. \n",
    "color_list = [\"Red\",\"Green\",\"White\" ,\"Black\"]\n",
    "\n",
    "#### 10. Write a Python program that accepts an integer (n) and computes the value of n+nn+nnn. \n",
    "Sample value of n is 5\n",
    "Expected Result : 615\n",
    "\n",
    "#### 14. Write a Python program to calculate number of days between two dates. \n",
    "Sample dates : (2014, 7, 2), (2014, 7, 11)\n",
    "Expected output : 9 days\n",
    "\n",
    "#### 25. Write a Python program to check whether a specified value is contained in a group of values. \n",
    "Test Data :\n",
    "3 -> [1, 5, 8, 3] : True\n",
    "-1 -> [1, 5, 8, 3] : False\n",
    "\n",
    "#### 26. Write a Python program to create a histogram from a given list of integers. \n",
    "\n",
    "#### 28. Write a Python program to print all even numbers from a given numbers list in the same order and stop the printing if any numbers that come after 237 in the sequence. ",
    "Sample numbers list :\n",
    "numbers = [    \n",
    "    386, 462, 47, 418, 907, 344, 236, 375, 823, 566, 597, 978, 328, 615, 953, 345, \n",
    "    399, 162, 758, 219, 918, 237, 412, 566, 826, 248, 866, 950, 626, 949, 687, 217, \n",
    "    815, 67, 104, 58, 512, 24, 892, 894, 767, 553, 81, 379, 843, 831, 445, 742, 717, \n",
    "    958,743, 527\n",
    "    ]\n",
    "\n",
    "\n",
    "#### 30. Write a Python program that will accept the base and height of a triangle and compute the area. \n",
    "\n",
    "#### 34. Write a Python program to sum of two given integers. However, if the sum is between 15 to 20 it will return 20. \n",
    "\n",
    "#### 40. Write a Python program to compute the distance between the points (x1, y1) and (x2, y2). \n",
    "\n",
    "#### 41. Write a Python program to check whether a file exists. \n",
    "\n",
    "#### 43. Write a Python program to get OS name, platform and release information. \n",
    "\n",
    "#### 58. Write a python program to find the sum of the first n positive integers. \n",
    "\n",
    "#### 67. Write a Python program to convert pressure in kilopascals to pounds per square inch, a millimeter of mercury (mmHg) and atmosphere pressure. \n",
    "\n",
    "\n",
    "## numpy arrays: https://www.w3resource.com/python-exercises/numpy/index-array.php\n",
    "\n",
    "#### 2. Write a NumPy program to convert a list of numeric value into a one-dimensional NumPy array.  ",
    "Expected Output: ",
    "Original List: [12.23, 13.32, 100, 36.32] ",
    "One-dimensional NumPy array: [ 12.23 13.32 100. 36.32] ",
    "\n",
    "\n",
    "#### 3.Write a NumPy program to create a 3x3 matrix with values ranging from 2 to 10.  ",
    "Expected Output: ",
    "[[ 2 3 4] ",
    "[ 5 6 7] ",
    "[ 8 9 10]] ",
    "\n",
    "\n",
    "#### 6. Write a NumPy program to reverse an array (first element becomes last). \n",
    "Original array:\n",
    "[12 13 14 15 16 17 18 19 20 21 22 23 24 25 26 27 28 29 30 31 32 33 34 35 36 37]\n",
    "Reverse array:\n",
    "[37 36 35 34 33 32 31 30 29 28 27 26 25 24 23 22 21 20 19 18 17 16 15 14 13 12]\n",
    "\n",
    "\n",
    "#### 18. Write a NumPy program to find common values between two arrays. \n",
    "Expected Output:\n",
    "Array1: [ 0 10 20 40 60]\n",
    "Array2: [10, 30, 40]\n",
    "Common values between two arrays:\n",
    "[10 40]\n",
    "\n",
    "\n",
    "## numpy basics:  https://www.w3resource.com/python-exercises/numpy/basic/index.php\n",
    "\n",
    "#### 4. Write a NumPy program to test whether any of the elements of a given array is non-zero. \n",
    "\n"
   ]
  },
  {
   "cell_type": "code",
   "execution_count": null,
   "metadata": {},
   "outputs": [],
   "source": []
  },
  {
   "cell_type": "code",
   "execution_count": null,
   "metadata": {},
   "outputs": [],
   "source": []
  }
 ],
 "metadata": {
  "kernelspec": {
   "display_name": "Python 3",
   "language": "python",
   "name": "python3"
  },
  "language_info": {
   "codemirror_mode": {
    "name": "ipython",
    "version": 3
   },
   "file_extension": ".py",
   "mimetype": "text/x-python",
   "name": "python",
   "nbconvert_exporter": "python",
   "pygments_lexer": "ipython3",
   "version": "3.6.7"
  }
 },
 "nbformat": 4,
 "nbformat_minor": 2
}
