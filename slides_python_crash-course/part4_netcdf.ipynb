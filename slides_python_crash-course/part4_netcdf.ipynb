{
 "cells": [
  {
   "cell_type": "code",
   "execution_count": 26,
   "metadata": {},
   "outputs": [],
   "source": [
    "import netCDF4\n",
    "import numpy as np\n",
    "import datetime"
   ]
  },
  {
   "cell_type": "code",
   "execution_count": 27,
   "metadata": {},
   "outputs": [
    {
     "ename": "TypeError",
     "evalue": "__init__() takes at least 1 positional argument (0 given)",
     "output_type": "error",
     "traceback": [
      "\u001b[1;31m---------------------------------------------------------------------------\u001b[0m",
      "\u001b[1;31mTypeError\u001b[0m                                 Traceback (most recent call last)",
      "\u001b[1;32m<ipython-input-27-dfac9e6dbba0>\u001b[0m in \u001b[0;36m<module>\u001b[1;34m()\u001b[0m\n\u001b[1;32m----> 1\u001b[1;33m \u001b[0mf\u001b[0m \u001b[1;33m=\u001b[0m \u001b[0mnetCDF4\u001b[0m\u001b[1;33m.\u001b[0m\u001b[0mDataset\u001b[0m\u001b[1;33m(\u001b[0m\u001b[1;33m)\u001b[0m\u001b[1;33m\u001b[0m\u001b[0m\n\u001b[0m",
      "\u001b[1;32mnetCDF4\\_netCDF4.pyx\u001b[0m in \u001b[0;36mnetCDF4._netCDF4.Dataset.__init__\u001b[1;34m()\u001b[0m\n",
      "\u001b[1;31mTypeError\u001b[0m: __init__() takes at least 1 positional argument (0 given)"
     ]
    }
   ],
   "source": [
    "f = netCDF4.Dataset()\n",
    "\n"
   ]
  },
  {
   "cell_type": "code",
   "execution_count": null,
   "metadata": {
    "scrolled": false
   },
   "outputs": [],
   "source": [
    "\n",
    "\n",
    "\n",
    "\n",
    "\n",
    "\n",
    "\n",
    "\n"
   ]
  },
  {
   "cell_type": "code",
   "execution_count": 28,
   "metadata": {},
   "outputs": [],
   "source": [
    "%matplotlib inline"
   ]
  },
  {
   "cell_type": "code",
   "execution_count": 29,
   "metadata": {},
   "outputs": [],
   "source": [
    "# plot with the rainrate\n",
    "\n",
    "import matplotlib.pyplot as plt\n",
    "import matplotlib\n",
    "\n",
    "\n",
    "\n",
    "\n",
    "\n",
    "\n",
    "\n"
   ]
  },
  {
   "cell_type": "code",
   "execution_count": null,
   "metadata": {},
   "outputs": [],
   "source": [
    "# Some adjustments to the axis labels, ticks and fonts\n",
    "def load_xy_style(ax, xlabel='Time [UTC]', ylabel='Height [m]'):\n",
    "    \"\"\"\n",
    "    Method that alters the apperance of labels on the x and y axis in place.\n",
    "    \n",
    "    Note:\n",
    "        If xlabel == 'Time [UTC]', the x axis ticks have major \n",
    "        ticks every 3 hours and minor ticks every 30 minutes.\n",
    "    \n",
    "    Args:\n",
    "        ax (matplotlib.axis) :: axis that gets adjusted\n",
    "        **xlabel (string) :: name of the x axis label\n",
    "        **ylabel (string) :: name of the y axis label\n",
    "    \n",
    "    \"\"\"\n",
    "    \n",
    "    ax.set_xlabel(xlabel, fontweight='semibold', fontsize=15)\n",
    "    ax.set_ylabel(ylabel, fontweight='semibold', fontsize=15) \n",
    "    if xlabel == 'Time [UTC]':\n",
    "        ax.xaxis.set_major_formatter(matplotlib.dates.DateFormatter('%H:%M')\n",
    "        ax.xaxis.set_major_locator(matplotlib.dates.HourLocator(interval=3))\n",
    "        ax.xaxis.set_minor_locator(matplotlib.dates.MinuteLocator(byminute=[0,30]))\n",
    "        ax.yaxis.set_minor_locator(matplotlib.ticker.MultipleLocator(500))\n",
    "    ax.tick_params(axis='both', which='major', labelsize=14, width=3, length=4)\n",
    "    ax.tick_params(axis='both', which='minor', width=2, length=3)\n",
    "    \n",
    "def load_cbar_style(cbar, cbar_label=''):\n",
    "    \"\"\"\n",
    "    Method that alters the apperance of labels on the color bar axis in place.\n",
    "    \n",
    "    Args:\n",
    "        ax (matplotlib.axis) :: axis that gets adjusted\n",
    "        **cbar_label (string) :: name of the cbar axis label, Defaults to empty string.\n",
    "    \n",
    "    \"\"\"\n",
    "    cbar.ax.set_ylabel(cbar_label, fontweight='semibold', fontsize=15)\n",
    "    cbar.ax.tick_params(axis='both', which='major', labelsize=14, width=2, length=4)\n"
   ]
  },
  {
   "cell_type": "code",
   "execution_count": 30,
   "metadata": {},
   "outputs": [],
   "source": [
    "# reflectivity plot\n",
    "\n",
    "\n",
    "\n",
    "\n",
    "\n",
    "\n",
    "\n",
    "\n",
    "\n",
    "\n"
   ]
  },
  {
   "cell_type": "code",
   "execution_count": 31,
   "metadata": {},
   "outputs": [],
   "source": [
    "# velocity plot with custom colorplot\n",
    "import Colormaps\n",
    "# similar for velocity\n",
    "\n",
    "\n",
    "\n",
    "\n",
    "\n",
    "\n",
    "\n",
    "\n",
    "\n",
    "\n",
    "\n"
   ]
  },
  {
   "cell_type": "code",
   "execution_count": 32,
   "metadata": {},
   "outputs": [],
   "source": [
    "# 2d histogram\n",
    "\n",
    "\n",
    "\n",
    "\n",
    "\n",
    "\n",
    "\n",
    "\n",
    "\n"
   ]
  }
 ],
 "metadata": {
  "kernelspec": {
   "display_name": "Python 3",
   "language": "python",
   "name": "python3"
  },
  "language_info": {
   "codemirror_mode": {
    "name": "ipython",
    "version": 3
   },
   "file_extension": ".py",
   "mimetype": "text/x-python",
   "name": "python",
   "nbconvert_exporter": "python",
   "pygments_lexer": "ipython3",
   "version": "3.6.7"
  }
 },
 "nbformat": 4,
 "nbformat_minor": 2
}
