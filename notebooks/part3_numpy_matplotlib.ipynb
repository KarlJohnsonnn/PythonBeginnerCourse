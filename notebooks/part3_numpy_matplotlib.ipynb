{
 "cells": [
  {
   "cell_type": "code",
   "execution_count": 1,
   "metadata": {},
   "outputs": [],
   "source": [
    "# import numpy\n",
    "import numpy as np"
   ]
  },
  {
   "cell_type": "code",
   "execution_count": 5,
   "metadata": {},
   "outputs": [
    {
     "name": "stdout",
     "output_type": "stream",
     "text": [
      "<class 'list'>\n",
      "<class 'numpy.ndarray'>\n"
     ]
    }
   ],
   "source": [
    "numberlist = [1, 5, 3, 7, 9, 4, 10]\n",
    "\n",
    "a = np.array(numberlist)\n",
    "\n",
    "print(type(numberlist))\n",
    "print(type(a))\n"
   ]
  },
  {
   "cell_type": "code",
   "execution_count": 9,
   "metadata": {},
   "outputs": [
    {
     "name": "stdout",
     "output_type": "stream",
     "text": [
      "(7,)\n",
      "[ 1  5  3  7 20  4 10]\n"
     ]
    }
   ],
   "source": [
    "# What shape (dimension) does the array have?\n",
    "print(a.shape)\n",
    "\n",
    "a[4] = 20\n",
    "\n",
    "print(a)\n",
    "\n"
   ]
  },
  {
   "cell_type": "code",
   "execution_count": 15,
   "metadata": {},
   "outputs": [
    {
     "name": "stdout",
     "output_type": "stream",
     "text": [
      "(3, 3)\n",
      "1\n",
      "[5 6]\n",
      "[[1 4 7]\n",
      " [2 5 8]\n",
      " [3 6 9]]\n",
      "[[1 4 7]\n",
      " [2 5 8]\n",
      " [3 6 9]]\n"
     ]
    }
   ],
   "source": [
    "b = np.array([[1,2,3],\n",
    "              [4,5,6],\n",
    "              [7,8,9]])\n",
    "\n",
    "print(b.shape)\n",
    "\n",
    "print(b[0, 0])\n",
    "print(b[1, 1:])\n",
    "\n",
    "print(np.transpose(b))\n",
    "print(b.T)\n",
    "\n",
    "\n"
   ]
  },
  {
   "cell_type": "code",
   "execution_count": 17,
   "metadata": {},
   "outputs": [
    {
     "name": "stdout",
     "output_type": "stream",
     "text": [
      "[1 3]\n"
     ]
    }
   ],
   "source": [
    "# show elements larger than 5  fill_value = -999.0\n",
    "print(a[a<4])\n"
   ]
  },
  {
   "cell_type": "code",
   "execution_count": 22,
   "metadata": {},
   "outputs": [
    {
     "name": "stdout",
     "output_type": "stream",
     "text": [
      "[ 1  5  3  7 20  4 10]\n",
      "[ 6 10  8 12 25  9 15]\n",
      "[ 0.5         1.66666667  3.          1.75        2.          0.57142857\n",
      " 10.        ]\n"
     ]
    }
   ],
   "source": [
    "# math\n",
    "print(a)\n",
    "print(a + 5)\n",
    "\n",
    "c_div = np.array([2, 3, 1, 4, 10, 7, 1])\n",
    "\n",
    "print(a / c_div)\n",
    "\n"
   ]
  },
  {
   "cell_type": "code",
   "execution_count": 28,
   "metadata": {},
   "outputs": [
    {
     "name": "stdout",
     "output_type": "stream",
     "text": [
      "[[1 2 3]\n",
      " [4 5 6]\n",
      " [7 8 9]]\n",
      "45\n",
      "[12 15 18]\n",
      "[ 6 15 24]\n",
      "[4. 5. 6.]\n"
     ]
    }
   ],
   "source": [
    "# math with build in functions\n",
    "print(b)\n",
    "print(np.sum(b))\n",
    "\n",
    "print(np.sum(b, axis=0))\n",
    "print(np.sum(b, axis=1))\n",
    "\n",
    "print(np.mean(b, axis=0))\n"
   ]
  },
  {
   "cell_type": "code",
   "execution_count": 32,
   "metadata": {},
   "outputs": [
    {
     "name": "stdout",
     "output_type": "stream",
     "text": [
      "[ 0  1  2  3  4  5  6  7  8  9 10 11 12 13 14]\n",
      "[0.         1.         1.41421356 1.73205081 2.         2.23606798\n",
      " 2.44948974 2.64575131 2.82842712 3.         3.16227766 3.31662479\n",
      " 3.46410162 3.60555128 3.74165739]\n"
     ]
    }
   ],
   "source": [
    "# generate arrays\n",
    "x = np.arange(15)\n",
    "\n",
    "print(x)\n",
    "print(np.sqrt(x))\n",
    "\n"
   ]
  },
  {
   "cell_type": "code",
   "execution_count": 37,
   "metadata": {},
   "outputs": [
    {
     "name": "stdout",
     "output_type": "stream",
     "text": [
      "[[ 1.00000e+01  1.00156e+03  1.06000e+01  8.60000e+01  2.73000e+02\n",
      "   7.60000e+00]\n",
      " [ 1.40000e+01  1.00110e+03  1.07100e+01  8.54000e+01  2.64000e+02\n",
      "   7.70000e+00]\n",
      " [ 1.90000e+01  1.00046e+03  1.07600e+01  8.50000e+01  2.59000e+02\n",
      "   7.90000e+00]\n",
      " ...\n",
      " [ 3.00740e+04  9.87000e+00 -6.77600e+01  1.00000e+00  2.61000e+02\n",
      "   3.76000e+01]\n",
      " [ 3.00780e+04  9.86000e+00 -6.74400e+01  1.00000e+00  2.61000e+02\n",
      "   3.77000e+01]\n",
      " [ 3.00810e+04  9.86000e+00 -6.73500e+01  1.00000e+00  2.61000e+02\n",
      "   3.77000e+01]]\n",
      "(6036, 6)\n"
     ]
    }
   ],
   "source": [
    "# Open the \"2018051011_pangaea.txt\" textfile and read in the values using numpy! \n",
    "data = np.genfromtxt('data/2018051011_pangaea.txt', delimiter='\\t', skip_header=16)\n",
    "print(data)\n",
    "print(data.shape)"
   ]
  },
  {
   "cell_type": "code",
   "execution_count": 40,
   "metadata": {},
   "outputs": [],
   "source": [
    "# Assign the column names to the extracted data for better readability.\n",
    "altitude = data[:, 0]\n",
    "pressure = data[:, 1]\n",
    "temperature = data[:, 2]\n",
    "rh = data[:, 3]\n",
    "dd = data[:, 4]\n",
    "ff = data[:, 5]\n"
   ]
  },
  {
   "cell_type": "code",
   "execution_count": 41,
   "metadata": {},
   "outputs": [],
   "source": [
    "def calculate_dewpoint(temperature, rh):\n",
    "    Esaett = 6.107e2 * np.exp((17.08*temperature)/(234.2 + temperature))\n",
    "    wvparpress = rh/100*Esaett\n",
    "    tau = 234.2/((17.08/(np.log(wvparpress/6.107e2)))-1)\n",
    "    return tau"
   ]
  },
  {
   "cell_type": "code",
   "execution_count": 43,
   "metadata": {},
   "outputs": [],
   "source": [
    "def calculate_wind_components(wdir, wspeed):\n",
    "    u = -wspeed * np.sin(wdir)\n",
    "    v = -wspeed * np.cos(wdir)\n",
    "    return u, v\n",
    "\n",
    "tau = calculate_dewpoint(temperature, rh)\n",
    "u,v = calculate_wind_components(dd*np.pi/180, ff)\n",
    "tpot = (temperature + 273.15) * np.power(pressure[0]/pressure, 287/1005)"
   ]
  },
  {
   "cell_type": "code",
   "execution_count": 44,
   "metadata": {},
   "outputs": [],
   "source": [
    "%matplotlib inline"
   ]
  },
  {
   "cell_type": "code",
   "execution_count": 71,
   "metadata": {},
   "outputs": [
    {
     "data": {
      "image/png": "[encoded data removed]",
      "text/plain": [
       "<Figure size 360x410.4 with 1 Axes>"
      ]
     },
     "metadata": {
      "needs_background": "light"
     },
     "output_type": "display_data"
    }
   ],
   "source": [
    "import matplotlib.pyplot as plt\n",
    "import matplotlib\n",
    "\n",
    "fig, ax = plt.subplots(1, figsize=(5,5.7))\n",
    "\n",
    "\n",
    "ax.plot(tau, altitude, color='blue', label='dew point')\n",
    "ax.plot(temperature, altitude, color='red', label='temperatur')\n",
    "\n",
    "ax.set_ylim([0, 10000])\n",
    "ax.set_xlim([-70, 20])\n",
    "\n",
    "ax.set_xlabel('temperatur [$^{\\circ}$C]', fontsize=15, fontweight='semibold')\n",
    "ax.set_ylabel('height [m]', fontsize=15, fontweight='semibold')\n",
    "\n",
    "ax.xaxis.set_major_locator(matplotlib.ticker.MultipleLocator(20))\n",
    "ax.xaxis.set_minor_locator(matplotlib.ticker.AutoMinorLocator(4))\n",
    "ax.yaxis.set_minor_locator(matplotlib.ticker.AutoMinorLocator(2))\n",
    "\n",
    "ax.tick_params(axis='both', which='major', labelsize=15, width=2, length=4.5, right=True, top=True)\n",
    "ax.tick_params(axis='both', which='minor', labelsize=15, width=1.5, length=2.5, right=True, top=True)\n",
    "\n",
    "ax.legend()\n",
    "plt.tight_layout()\n",
    "\n",
    "fig.savefig(f'2018051011_profile_t.png')"
   ]
  },
  {
   "cell_type": "code",
   "execution_count": null,
   "metadata": {},
   "outputs": [],
   "source": [
    "\n",
    "\n",
    "\n",
    "\n",
    "\n",
    "\n",
    "\n",
    "\n"
   ]
  },
  {
   "cell_type": "code",
   "execution_count": null,
   "metadata": {},
   "outputs": [],
   "source": []
  }
 ],
 "metadata": {
  "kernelspec": {
   "display_name": "Python 3",
   "language": "python",
   "name": "python3"
  },
  "language_info": {
   "codemirror_mode": {
    "name": "ipython",
    "version": 3
   },
   "file_extension": ".py",
   "mimetype": "text/x-python",
   "name": "python",
   "nbconvert_exporter": "python",
   "pygments_lexer": "ipython3",
   "version": "3.6.7"
  }
 },
 "nbformat": 4,
 "nbformat_minor": 2
}
