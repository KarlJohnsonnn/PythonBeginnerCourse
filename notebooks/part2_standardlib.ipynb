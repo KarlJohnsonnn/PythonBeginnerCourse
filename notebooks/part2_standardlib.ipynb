{
 "cells": [
  {
   "cell_type": "code",
   "execution_count": 1,
   "metadata": {},
   "outputs": [],
   "source": [
    "# import the datetime module\n",
    "import datetime"
   ]
  },
  {
   "cell_type": "markdown",
   "metadata": {},
   "source": [
    "### initialize a datetime object\n"
   ]
  },
  {
   "cell_type": "code",
   "execution_count": 6,
   "metadata": {
    "pycharm": {
     "name": "#%%\n"
    }
   },
   "outputs": [
    {
     "name": "stdout",
     "output_type": "stream",
     "text": [
      "2018-06-02 13:30:00\n",
      "<class 'datetime.datetime'>\n",
      "2018-06-30 13:30:00\n"
     ]
    }
   ],
   "source": [
    "start_time = datetime.datetime(2018, 6, 2, 13, 30)\n",
    "print(start_time)\n",
    "print(type(start_time))\n",
    "later = start_time + datetime.timedelta(days=28)\n",
    "print(later)"
   ]
  },
  {
   "cell_type": "markdown",
   "metadata": {},
   "source": [
    "### What time is it?"
   ]
  },
  {
   "cell_type": "code",
   "execution_count": 7,
   "metadata": {
    "pycharm": {
     "name": "#%%\n"
    }
   },
   "outputs": [
    {
     "name": "stdout",
     "output_type": "stream",
     "text": [
      "2020-10-06 10:37:06.604685\n"
     ]
    }
   ],
   "source": [
    "today = datetime.datetime.now()\n",
    "print(today)"
   ]
  },
  {
   "cell_type": "markdown",
   "metadata": {},
   "source": [
    "### counting number of days since"
   ]
  },
  {
   "cell_type": "code",
   "execution_count": 10,
   "metadata": {
    "pycharm": {
     "name": "#%%\n"
    }
   },
   "outputs": [
    {
     "name": "stdout",
     "output_type": "stream",
     "text": [
      "2020-10-06 10:40:57.645414\n",
      "days since Nov 12. 1955 = 23704\n"
     ]
    }
   ],
   "source": [
    "# Nov. 12, 1955 at 10:04 PM\n",
    "now = datetime.datetime.now()\n",
    "print(now)\n",
    "\n",
    "past = datetime.datetime(1955, 11, 12, 22, 4)\n",
    "\n",
    "days_since = now - past\n",
    "\n",
    "print(f'days since {past:%b %d. %Y} = {days_since.days}')\n"
   ]
  },
  {
   "cell_type": "markdown",
   "metadata": {},
   "source": [
    "### initialize a datetime object with an arbitrary formatted string"
   ]
  },
  {
   "cell_type": "code",
   "execution_count": 13,
   "metadata": {
    "pycharm": {
     "name": "#%%\n"
    }
   },
   "outputs": [
    {
     "name": "stdout",
     "output_type": "stream",
     "text": [
      "2017-11-21 16:30:00\n",
      "2017-11-21_1630\n",
      "<class 'str'>\n"
     ]
    }
   ],
   "source": [
    "timestring = '21/11/17 16:30' # DD/MM/YY HH:MM\n",
    "anothertime = datetime.datetime.strptime(timestring, '%d/%m/%y %H:%M')\n",
    "\n",
    "print(anothertime)\n",
    "\n",
    "newtimestring = anothertime.strftime('%Y-%m-%d_%H%M')\n",
    "print(newtimestring)\n",
    "print(type(newtimestring))\n",
    "\n"
   ]
  },
  {
   "cell_type": "markdown",
   "metadata": {},
   "source": [
    "### generate a list of datetime objects begining at 2020 June 28. until today with a time delta of 1 day"
   ]
  },
  {
   "cell_type": "code",
   "execution_count": 15,
   "metadata": {
    "pycharm": {
     "name": "#%%\n"
    }
   },
   "outputs": [
    {
     "data": {
      "text/plain": [
       "[datetime.datetime(2020, 10, 1, 0, 0),\n",
       " datetime.datetime(2020, 10, 2, 0, 0),\n",
       " datetime.datetime(2020, 10, 3, 0, 0),\n",
       " datetime.datetime(2020, 10, 4, 0, 0),\n",
       " datetime.datetime(2020, 10, 5, 0, 0),\n",
       " datetime.datetime(2020, 10, 6, 0, 0)]"
      ]
     },
     "execution_count": 15,
     "metadata": {},
     "output_type": "execute_result"
    }
   ],
   "source": [
    "def timerange(begin, end):\n",
    "    result = []\n",
    "    pivot = begin\n",
    "    \n",
    "    while pivot <= end:\n",
    "        result.append(pivot)\n",
    "        pivot += datetime.timedelta(days=1)\n",
    "    \n",
    "    return result\n",
    "\n",
    "timerange(datetime.datetime(2020,10,1), today)"
   ]
  },
  {
   "cell_type": "code",
   "execution_count": 16,
   "metadata": {
    "pycharm": {
     "name": "#%%\n"
    }
   },
   "outputs": [],
   "source": [
    "# list the file names in the data folder\n",
    "import os"
   ]
  },
  {
   "cell_type": "code",
   "execution_count": 40,
   "metadata": {},
   "outputs": [
    {
     "name": "stdout",
     "output_type": "stream",
     "text": [
      "/Users/willi/Dropbox/PowerPoint/PythonBeginnersCourse/notebooks\n",
      "Modification time: 20180630 11:15:42\n"
     ]
    }
   ],
   "source": [
    "#filelist = os.listdir('data')\n",
    "#print(filelist)\n",
    "\n",
    "#print(os.getcwd())\n",
    "\n",
    "#os.chdir('data/')\n",
    "#print(os.getcwd())\n",
    "\n",
    "#os.chdir('PythonBeginnersCourse/')\n",
    "print(os.getcwd())\n",
    "\n",
    "#os.makedirs('newfolder/newsubfolder/newsubsubfolder')\n",
    "#os.removedirs('newfolder/newsubfolder/newsubsubfolder')\n",
    "\n",
    "#os.chdir('notebooks/')\n",
    "#print(os.getcwd())\n",
    "\n",
    "# unix time = seconds since January 1st 1970\n",
    "\n",
    "last_changed = os.stat('data/20180624_leipzig_categorize.nc').st_mtime\n",
    "\n",
    "dt_last_changed = datetime.datetime.fromtimestamp(last_changed)\n",
    "\n",
    "print(f'Modification time: {dt_last_changed:%Y%m%d %H:%M:%S}')\n"
   ]
  },
  {
   "cell_type": "code",
   "execution_count": 43,
   "metadata": {},
   "outputs": [
    {
     "name": "stdout",
     "output_type": "stream",
     "text": [
      "/Users/willi/Dropbox/PowerPoint/PythonBeginnersCourse/notebooks\n",
      "['2018051011_pangaea.txt', '20180624_leipzig_categorize.nc', '20180624_leipzig_classification.nc', '2018051911_pangaea.txt']\n"
     ]
    }
   ],
   "source": [
    "print(os.getcwd())\n",
    "\n",
    "filelist = os.listdir('data')\n",
    "print(filelist)"
   ]
  },
  {
   "cell_type": "code",
   "execution_count": 45,
   "metadata": {
    "pycharm": {
     "name": "#%%\n"
    }
   },
   "outputs": [
    {
     "data": {
      "text/plain": [
       "datetime.datetime(2018, 5, 10, 0, 0)"
      ]
     },
     "execution_count": 45,
     "metadata": {},
     "output_type": "execute_result"
    }
   ],
   "source": [
    "# Write a function that returns a datetime object inizialized by a string containting some kind of formatted date\n",
    "def dt_from_filename(filename):\n",
    "    return datetime.datetime.strptime(filename[:8], '%Y%m%d')\n",
    "\n",
    "dt_from_filename(filelist[0])"
   ]
  },
  {
   "cell_type": "code",
   "execution_count": 46,
   "metadata": {},
   "outputs": [
    {
     "name": "stdout",
     "output_type": "stream",
     "text": [
      "[datetime.datetime(2018, 5, 10, 0, 0), datetime.datetime(2018, 6, 24, 0, 0), datetime.datetime(2018, 6, 24, 0, 0), datetime.datetime(2018, 5, 19, 0, 0)]\n"
     ]
    }
   ],
   "source": [
    "date_list = []\n",
    "\n",
    "for file in filelist:\n",
    "    dt = dt_from_filename(file[:8])\n",
    "    date_list.append(dt)\n",
    "    \n",
    "print(date_list)    "
   ]
  },
  {
   "cell_type": "code",
   "execution_count": 47,
   "metadata": {
    "pycharm": {
     "name": "#%%\n"
    }
   },
   "outputs": [
    {
     "name": "stdout",
     "output_type": "stream",
     "text": [
      "[datetime.datetime(2018, 5, 10, 0, 0), datetime.datetime(2018, 6, 24, 0, 0), datetime.datetime(2018, 6, 24, 0, 0), datetime.datetime(2018, 5, 19, 0, 0)]\n"
     ]
    }
   ],
   "source": [
    "# list comprehension\n",
    "dt_list_comprehension = [dt_from_filename(file[:8]) for file in filelist]\n",
    "\n",
    "print(dt_list_comprehension)"
   ]
  },
  {
   "cell_type": "code",
   "execution_count": null,
   "metadata": {
    "pycharm": {
     "name": "#%%\n"
    }
   },
   "outputs": [],
   "source": []
  }
 ],
 "metadata": {
  "kernelspec": {
   "display_name": "Python 3",
   "language": "python",
   "name": "python3"
  },
  "language_info": {
   "codemirror_mode": {
    "name": "ipython",
    "version": 3
   },
   "file_extension": ".py",
   "mimetype": "text/x-python",
   "name": "python",
   "nbconvert_exporter": "python",
   "pygments_lexer": "ipython3",
   "version": "3.6.7"
  }
 },
 "nbformat": 4,
 "nbformat_minor": 2
}
