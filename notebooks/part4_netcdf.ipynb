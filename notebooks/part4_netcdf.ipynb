{
 "cells": [
  {
   "cell_type": "code",
   "execution_count": null,
   "metadata": {},
   "outputs": [],
   "source": [
    "# import the netCDF4 module\n",
    "import netCDF4\n",
    "import numpy as np\n",
    "import datetime"
   ]
  },
  {
   "cell_type": "code",
   "execution_count": null,
   "metadata": {},
   "outputs": [],
   "source": [
    "# load the categorize file in the data folder\n"
   ]
  },
  {
   "cell_type": "code",
   "execution_count": null,
   "metadata": {
    "scrolled": false
   },
   "outputs": [],
   "source": [
    "# make variables more readable\n",
    "\n",
    "\n",
    "# copy time and height values to local variables\n"
   ]
  },
  {
   "cell_type": "code",
   "execution_count": null,
   "metadata": {},
   "outputs": [],
   "source": [
    "%matplotlib inline"
   ]
  },
  {
   "cell_type": "code",
   "execution_count": null,
   "metadata": {},
   "outputs": [],
   "source": [
    "# convert time to readable format\n",
    "dt = datetime.datetime(f.year, f.month, f.day)\n",
    "print(time)\n",
    "dt_list = [dt + datetime.timedelta(seconds=t*3600) for t in time]\n",
    "\n",
    "print(dt_list[:10])"
   ]
  },
  {
   "cell_type": "code",
   "execution_count": null,
   "metadata": {},
   "outputs": [],
   "source": [
    "# plot with the rainrate\n",
    "\n",
    "import matplotlib.pyplot as plt\n",
    "import matplotlib\n",
    "\n",
    "# some more visual candy"
   ]
  },
  {
   "cell_type": "code",
   "execution_count": null,
   "metadata": {},
   "outputs": [],
   "source": [
    "# Some adjustments to the axis labels, ticks and fonts\n",
    "def load_xy_style(ax, xlabel='Time [UTC]', ylabel='Height [m]'):\n",
    "    \"\"\"\n",
    "    Method that alters the apperance of labels on the x and y axis in place.\n",
    "\n",
    "    Note:\n",
    "        If xlabel == 'Time [UTC]', the x axis set to major\n",
    "        ticks every 3 hours and minor ticks every 30 minutes.\n",
    "\n",
    "    Args:\n",
    "        ax (matplotlib.axis) :: axis that gets adjusted\n",
    "        **xlabel (string) :: name of the x axis label\n",
    "        **ylabel (string) :: name of the y axis label\n",
    "\n",
    "    \"\"\"\n",
    "\n",
    "    ax.set_xlabel(xlabel, fontweight='semibold', fontsize=15)\n",
    "    ax.set_ylabel(ylabel, fontweight='semibold', fontsize=15)\n",
    "    if xlabel == 'Time [UTC]':\n",
    "        ax.xaxis.set_major_formatter(matplotlib.dates.DateFormatter('%H:%M'))\n",
    "        ax.xaxis.set_major_locator(matplotlib.dates.HourLocator(interval=3))\n",
    "        ax.xaxis.set_minor_locator(matplotlib.dates.MinuteLocator(byminute=[0,30]))\n",
    "        ax.yaxis.set_minor_locator(matplotlib.ticker.MultipleLocator(500))\n",
    "    ax.tick_params(axis='both', which='major', labelsize=14, width=3, length=4)\n",
    "    ax.tick_params(axis='both', which='minor', width=2, length=3)\n",
    "\n",
    "def load_cbar_style(cbar, cbar_label=''):\n",
    "    \"\"\"\n",
    "    Method that alters the apperance of labels on the color bar axis in place.\n",
    "\n",
    "    Args:\n",
    "        ax (matplotlib.axis) :: axis that gets adjusted\n",
    "        **cbar_label (string) :: name of the cbar axis label, Defaults to empty string.\n",
    "\n",
    "    \"\"\"\n",
    "    cbar.ax.set_ylabel(cbar_label, fontweight='semibold', fontsize=15)\n",
    "    cbar.ax.tick_params(axis='both', which='major', labelsize=14, width=2, length=4)"
   ]
  },
  {
   "cell_type": "code",
   "execution_count": null,
   "metadata": {},
   "outputs": [],
   "source": [
    "# reflectivity plot\n"
   ]
  },
  {
   "cell_type": "code",
   "execution_count": null,
   "metadata": {},
   "outputs": [],
   "source": [
    "# similar for velocity\n",
    "import Colormaps"
   ]
  },
  {
   "cell_type": "code",
   "execution_count": null,
   "metadata": {},
   "outputs": [],
   "source": [
    "# 2d histogram"
   ]
  },
  {
   "cell_type": "code",
   "execution_count": null,
   "metadata": {
    "pycharm": {
     "name": "#%%\n"
    }
   },
   "outputs": [],
   "source": [
    "# lidar beta and linear depolarization in one figure with two subplots\n"
   ]
  },
  {
   "cell_type": "code",
   "execution_count": null,
   "metadata": {
    "pycharm": {
     "name": "#%%\n"
    }
   },
   "outputs": [],
   "source": []
  },
  {
   "cell_type": "code",
   "execution_count": null,
   "metadata": {
    "pycharm": {
     "name": "#%%\n"
    }
   },
   "outputs": [],
   "source": []
  }
 ],
 "metadata": {
  "kernelspec": {
   "display_name": "Python 3",
   "language": "python",
   "name": "python3"
  },
  "language_info": {
   "codemirror_mode": {
    "name": "ipython",
    "version": 3
   },
   "file_extension": ".py",
   "mimetype": "text/x-python",
   "name": "python",
   "nbconvert_exporter": "python",
   "pygments_lexer": "ipython3",
   "version": "3.6.7"
  }
 },
 "nbformat": 4,
 "nbformat_minor": 2
}
